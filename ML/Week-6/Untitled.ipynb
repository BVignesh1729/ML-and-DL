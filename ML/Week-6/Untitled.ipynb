{
 "cells": [
  {
   "cell_type": "code",
   "execution_count": 40,
   "id": "73a5b1db",
   "metadata": {},
   "outputs": [],
   "source": [
    "import numpy as np"
   ]
  },
  {
   "cell_type": "code",
   "execution_count": 41,
   "id": "7a046b78",
   "metadata": {},
   "outputs": [],
   "source": [
    "def hinge_grad(a,y):\n",
    "    return np.where(np.dot(y,a)>1, 0, -y)"
   ]
  },
  {
   "cell_type": "code",
   "execution_count": 42,
   "id": "009d5809",
   "metadata": {},
   "outputs": [
    {
     "name": "stdout",
     "output_type": "stream",
     "text": [
      "[[-1]]\n"
     ]
    }
   ],
   "source": [
    "activation = np.array([[-3]])\n",
    "label = np.array([[1]])\n",
    "print(hinge_grad(activation, label))"
   ]
  },
  {
   "cell_type": "code",
   "execution_count": 61,
   "id": "db8fb003",
   "metadata": {},
   "outputs": [],
   "source": [
    "#Calculating the gradient matrix\n",
    "W = np.array([[1, -1, -2], [-1, 2, 1]])\n",
    "data = np.array([[1,1]]).T\n",
    "target = np.array([[0, 1, 0]]).T\n",
    "\n",
    "def feed_forward(x,W):\n",
    "    z = np.dot(W.T,x)\n",
    "    return np.exp(z)/np.sum(np.exp(z), axis=0)\n",
    "    \n",
    "\n",
    "def find_grad_matrix(x,y,a,W):\n",
    "    m = W.shape[0]\n",
    "    diff = (a - y).T\n",
    "    W_grad = x[0,0]*(diff)\n",
    "    for i in range(m-1):\n",
    "        W_grad = np.append(W_grad, x[i+1,0]*(diff), axis=0)\n",
    "     \n",
    "    return W_grad\n",
    "    \n",
    "    "
   ]
  },
  {
   "cell_type": "code",
   "execution_count": 63,
   "id": "f2a67399",
   "metadata": {},
   "outputs": [
    {
     "name": "stdout",
     "output_type": "stream",
     "text": [
      "[[0.24472847]\n",
      " [0.66524096]\n",
      " [0.09003057]]\n",
      "[[ 0.87763576 -0.83262048 -2.04501529]\n",
      " [-1.12236424  2.16737952  0.95498471]]\n"
     ]
    }
   ],
   "source": [
    "A = feed_forward(data,W)\n",
    "print(A)\n",
    "W_grad = find_grad_matrix(data,target,A,W)\n",
    "W = W - 0.5*W_grad\n",
    "print(W)"
   ]
  },
  {
   "cell_type": "code",
   "execution_count": 65,
   "id": "0aa2571f",
   "metadata": {},
   "outputs": [
    {
     "name": "stdout",
     "output_type": "stream",
     "text": [
      "[[0.15918761]\n",
      " [0.77245284]\n",
      " [0.06835955]]\n"
     ]
    }
   ],
   "source": [
    "print(feed_forward(data,W))"
   ]
  },
  {
   "cell_type": "code",
   "execution_count": null,
   "id": "51f82285",
   "metadata": {},
   "outputs": [],
   "source": []
  }
 ],
 "metadata": {
  "kernelspec": {
   "display_name": "Python 3 (ipykernel)",
   "language": "python",
   "name": "python3"
  },
  "language_info": {
   "codemirror_mode": {
    "name": "ipython",
    "version": 3
   },
   "file_extension": ".py",
   "mimetype": "text/x-python",
   "name": "python",
   "nbconvert_exporter": "python",
   "pygments_lexer": "ipython3",
   "version": "3.8.10"
  }
 },
 "nbformat": 4,
 "nbformat_minor": 5
}
