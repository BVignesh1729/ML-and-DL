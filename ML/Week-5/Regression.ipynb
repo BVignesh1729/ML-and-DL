{
 "cells": [
  {
   "cell_type": "code",
   "execution_count": 3,
   "id": "87c92c83",
   "metadata": {},
   "outputs": [],
   "source": [
    "import numpy as np"
   ]
  },
  {
   "cell_type": "code",
   "execution_count": 4,
   "id": "0e044767",
   "metadata": {},
   "outputs": [],
   "source": [
    "def lin_reg(x, th, th0):\n",
    "    return (np.dot(th.T,x) + th0) #Outputs a row vector for entire data \n",
    "\n",
    "def square_loss(x, y, th, th0):\n",
    "    return (y - lin_reg(x, th, th0))**2\n",
    "\n",
    "def mean_square_loss(x, y, th, th0):\n",
    "    return np.mean(square_loss(x, y, th, th0), axis=1, keepdims=True)"
   ]
  },
  {
   "cell_type": "code",
   "execution_count": 13,
   "id": "13173c27",
   "metadata": {},
   "outputs": [
    {
     "name": "stdout",
     "output_type": "stream",
     "text": [
      "[[2.5 3.5 4.5]]\n"
     ]
    }
   ],
   "source": [
    "print(np.mean((np.array([[1,2,3],[4,5,6]])), axis = 0, keepdims=True))"
   ]
  },
  {
   "cell_type": "code",
   "execution_count": 22,
   "id": "3a051c27",
   "metadata": {},
   "outputs": [],
   "source": [
    "def d_lin_reg_th(x, th, th0):\n",
    "    return x\n",
    "\n",
    "def d_square_loss_th(x, y, th, th0):\n",
    "    return 2 * (lin_reg(x, th, th0) - y) * d_lin_reg_th(x, th, th0)\n",
    "\n",
    "def d_mean_square_loss_th(x, y, th, th0):\n",
    "    return np.mean(d_square_loss_th(x, y, th, th0), axis = 1, keepdims = True)\n"
   ]
  },
  {
   "cell_type": "code",
   "execution_count": 23,
   "id": "7643fd8a",
   "metadata": {},
   "outputs": [
    {
     "data": {
      "text/plain": [
       "(array([[1, 2, 3, 4],\n",
       "        [5, 6, 7, 8]]),\n",
       " array([[ 0,  1,  3,  4],\n",
       "        [-1, -4,  6,  0]]),\n",
       " array([[  0,   2,   9,  16],\n",
       "        [ -5, -24,  42,   0]]))"
      ]
     },
     "execution_count": 23,
     "metadata": {},
     "output_type": "execute_result"
    }
   ],
   "source": [
    "a = np.array([[1,2,3,4],[5,6,7,8]])\n",
    "b = np.array([[0,1,3,4],[-1,-4,6,0]])\n",
    "a,b,a*b"
   ]
  },
  {
   "cell_type": "code",
   "execution_count": 24,
   "id": "03277acc",
   "metadata": {},
   "outputs": [],
   "source": [
    "def d_lin_reg_th0(x, th, th0):\n",
    "    return 1\n",
    "    \n",
    "# Write a function that returns the gradient of square_loss(x, y, th, th0) with\n",
    "# respect to th0.  It should be a one-line expression that uses lin_reg and\n",
    "# d_lin_reg_th0.\n",
    "def d_square_loss_th0(x, y, th, th0):\n",
    "    return 2*(lin_reg((x, th, th0) - y))\n",
    "\n",
    "# Write a function that returns the gradient of mean_square_loss(x, y, th, th0) with\n",
    "# respect to th0.  It should be a one-line expression that uses d_square_loss_th0.\n",
    "def d_mean_square_loss_th0(x, y, th, th0):\n",
    "    return np.mean(d_square_loss_th0(x, y, th, th0), axis = 1, keepdims = True)\n"
   ]
  },
  {
   "cell_type": "code",
   "execution_count": 27,
   "id": "402b9d44",
   "metadata": {},
   "outputs": [],
   "source": [
    "def ridge_obj(x, y, th, th0, lam):\n",
    "    return np.mean(square_loss(x, y, th, th0), axis = 1, keepdims = True) + lam*np.linalg.norm(theta)**2\n"
   ]
  },
  {
   "cell_type": "code",
   "execution_count": 28,
   "id": "5ee4fe09",
   "metadata": {},
   "outputs": [],
   "source": [
    "def sgd(X, y, J, dJ, w0, step_size_fn, max_iter):\n",
    "    fs = []\n",
    "    gs = []\n",
    "    fs.append(J(X, y, w0))\n",
    "    gs.append(dJ(X, y, w0))\n",
    "    w = w0.copy()\n",
    "    np.random.seed(0)\n",
    "    for i in range(max_iter-1):\n",
    "        k = np.random.randint(X.shape[1])\n",
    "        w = w - step_size_fn(i)*(dJ(X, y, w))\n",
    "        \n",
    "        fs.append(J(X, y, w))\n",
    "        gs.append(dJ(X, y, w))\n",
    "        \n",
    "    return w,fs,gs\n"
   ]
  },
  {
   "cell_type": "code",
   "execution_count": null,
   "id": "b62553f5",
   "metadata": {},
   "outputs": [],
   "source": []
  }
 ],
 "metadata": {
  "kernelspec": {
   "display_name": "Python 3 (ipykernel)",
   "language": "python",
   "name": "python3"
  },
  "language_info": {
   "codemirror_mode": {
    "name": "ipython",
    "version": 3
   },
   "file_extension": ".py",
   "mimetype": "text/x-python",
   "name": "python",
   "nbconvert_exporter": "python",
   "pygments_lexer": "ipython3",
   "version": "3.8.10"
  }
 },
 "nbformat": 4,
 "nbformat_minor": 5
}
