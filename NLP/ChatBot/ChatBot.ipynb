{
 "cells": [
  {
   "cell_type": "markdown",
   "id": "08aee11e",
   "metadata": {},
   "source": [
    "## Preprocessing Pipeline"
   ]
  },
  {
   "cell_type": "code",
   "execution_count": 1,
   "id": "313a8544",
   "metadata": {},
   "outputs": [],
   "source": [
    "import nltk\n",
    "import numpy as np\n",
    "import torch\n",
    "import torch.nn as nn\n",
    "from torch.utils.data import Dataset, DataLoader"
   ]
  },
  {
   "cell_type": "markdown",
   "id": "dd180c7f",
   "metadata": {},
   "source": [
    "### Tokenization and Stemming"
   ]
  },
  {
   "cell_type": "code",
   "execution_count": 2,
   "id": "e9bacfd2",
   "metadata": {},
   "outputs": [
    {
     "name": "stderr",
     "output_type": "stream",
     "text": [
      "[nltk_data] Downloading package punkt to /home/vicky/nltk_data...\n",
      "[nltk_data]   Package punkt is already up-to-date!\n"
     ]
    }
   ],
   "source": [
    "nltk.download('punkt')\n",
    "def tokenize(sentence): \n",
    "    return nltk.word_tokenize(sentence)\n",
    "\n",
    "\n",
    "from nltk.stem.porter import PorterStemmer\n",
    "stemmer = PorterStemmer()\n",
    "\n",
    "def stemming(word):\n",
    "    return stemmer.stem(word.lower())\n",
    "\n",
    "    "
   ]
  },
  {
   "cell_type": "code",
   "execution_count": 3,
   "id": "a0e0e79e",
   "metadata": {},
   "outputs": [
    {
     "name": "stdout",
     "output_type": "stream",
     "text": [
      "How long does shipping take?\n",
      "['How', 'long', 'does', 'shipping', 'take', '?']\n"
     ]
    }
   ],
   "source": [
    "s = \"How long does shipping take?\"\n",
    "print(s)\n",
    "print(tokenize(s))\n"
   ]
  },
  {
   "cell_type": "code",
   "execution_count": 4,
   "id": "300a4ec8",
   "metadata": {},
   "outputs": [],
   "source": [
    "similar1 = ['happy', 'happier', 'happiest']\n",
    "similar2 = ['organize', 'organizer', 'organizing']\n",
    "\n",
    "stemmed_words1 = [stemming(w) for w in similar1]\n",
    "stemmed_words2 = [stemming(w) for w in similar2]"
   ]
  },
  {
   "cell_type": "code",
   "execution_count": 5,
   "id": "55e43043",
   "metadata": {},
   "outputs": [
    {
     "data": {
      "text/plain": [
       "(['happi', 'happier', 'happiest'], ['organ', 'organ', 'organ'])"
      ]
     },
     "execution_count": 5,
     "metadata": {},
     "output_type": "execute_result"
    }
   ],
   "source": [
    "stemmed_words1, stemmed_words2"
   ]
  },
  {
   "cell_type": "code",
   "execution_count": 6,
   "id": "a78bccae",
   "metadata": {},
   "outputs": [
    {
     "name": "stdout",
     "output_type": "stream",
     "text": [
      "{'intents': [{'tag': 'greeting', 'patterns': ['Hi', 'How are you', 'Is anyone there?', 'Hello', 'Good day'], 'responses': ['Hello, thanks for visiting', 'Good to see you again', 'Hi there, how can I help?'], 'context_set': ''}, {'tag': 'goodbye', 'patterns': ['Bye', 'See you later', 'Goodbye'], 'responses': ['See you later, thanks for visiting', 'Have a nice day', 'Bye! Come back again soon.']}, {'tag': 'thanks', 'patterns': ['Thanks', 'Thank you', \"That's helpful\"], 'responses': ['Happy to help!', 'Any time!', 'My pleasure']}, {'tag': 'hours', 'patterns': ['What hours are you open?', 'What are your hours?', 'When are you open?'], 'responses': [\"We're open every day 9am-9pm\", 'Our hours are 9am-9pm every day']}, {'tag': 'mopeds', 'patterns': ['Which mopeds do you have?', 'What kinds of mopeds are there?', 'What do you rent?'], 'responses': ['We rent Yamaha, Piaggio and Vespa mopeds', 'We have Piaggio, Vespa and Yamaha mopeds']}, {'tag': 'payments', 'patterns': ['Do you take credit cards?', 'Do you accept Mastercard?', 'Are you cash only?'], 'responses': ['We accept VISA, Mastercard and AMEX', 'We accept most major credit cards']}, {'tag': 'opentoday', 'patterns': ['Are you open today?', 'When do you open today?', 'What are your hours today?'], 'responses': [\"We're open every day from 9am-9pm\", 'Our hours are 9am-9pm every day']}, {'tag': 'rental', 'patterns': ['Can we rent a moped?', \"I'd like to rent a moped\", 'How does this work?'], 'responses': ['Are you looking to rent today or later this week?'], 'context_set': 'rentalday'}, {'tag': 'today', 'patterns': ['today'], 'responses': ['For rentals today please call 1-800-MYMOPED', 'Same-day rentals please call 1-800-MYMOPED'], 'context_filter': 'rentalday'}]}\n"
     ]
    }
   ],
   "source": [
    "import json\n",
    "\n",
    "with open('data.json','r') as f:\n",
    "    intents = json.load(f)\n",
    "    \n",
    "print(intents)"
   ]
  },
  {
   "cell_type": "markdown",
   "id": "e3d4d5f2",
   "metadata": {},
   "source": [
    "### Collecting all the words"
   ]
  },
  {
   "cell_type": "code",
   "execution_count": 7,
   "id": "1b018e9f",
   "metadata": {},
   "outputs": [],
   "source": [
    "all_words = []\n",
    "tags = []\n",
    "xy = []\n",
    "for intent in intents['intents']:\n",
    "    tag = intent['tag']\n",
    "    tags.append(tag)\n",
    "    for pattern in intent['patterns']: \n",
    "        w = tokenize(pattern)\n",
    "        all_words.extend(w)\n",
    "        xy.append((w,tag))\n",
    "        \n",
    "        \n",
    "# print(all_words)\n",
    "ignore_words = ['?', '!', '.', ',']\n",
    "all_words = [stemming(w) for w in all_words if w not in ignore_words]\n",
    "\n",
    "all_words =sorted(set(all_words))\n",
    "tags = sorted(set(tags))\n",
    "# print(tags)\n",
    "    "
   ]
  },
  {
   "cell_type": "markdown",
   "id": "ee9f01e4",
   "metadata": {},
   "source": [
    "#### Defining the bag of words function, to vectorize the tokenized sentences"
   ]
  },
  {
   "cell_type": "code",
   "execution_count": 8,
   "id": "8910c3a6",
   "metadata": {},
   "outputs": [],
   "source": [
    "def bag_of_words(sentence,bag):\n",
    "    sentence = [stemming(w) for w in sentence]\n",
    "    vec = np.zeros(len(bag),dtype=np.float32)\n",
    "    for i,word in enumerate(bag):\n",
    "        if word not in sentence:\n",
    "            vec[i] = 0.0\n",
    "        else:\n",
    "            vec[i] = 1.0\n",
    "                \n",
    "    return vec"
   ]
  },
  {
   "cell_type": "code",
   "execution_count": 9,
   "id": "a3a67167",
   "metadata": {},
   "outputs": [
    {
     "data": {
      "text/plain": [
       "array([0., 1., 0., 1., 0., 1., 0.], dtype=float32)"
      ]
     },
     "execution_count": 9,
     "metadata": {},
     "output_type": "execute_result"
    }
   ],
   "source": [
    "sentence = [\"hello\", \"how\", \"are\", \"you\", \"thanks\"]\n",
    "words = [\"hi\", \"hello\", \"I\", \"you\", \"bye\", \"thank\", \"cool\"]\n",
    "\n",
    "k = bag_of_words(sentence,words)\n",
    "k"
   ]
  },
  {
   "cell_type": "markdown",
   "id": "2418e855",
   "metadata": {},
   "source": [
    "#### Vectorizing the data and forming the training set array"
   ]
  },
  {
   "cell_type": "code",
   "execution_count": 10,
   "id": "e6c73a97",
   "metadata": {},
   "outputs": [
    {
     "name": "stdout",
     "output_type": "stream",
     "text": [
      "(27, 48) (27,)\n"
     ]
    }
   ],
   "source": [
    "X_train = []\n",
    "y_train = [] \n",
    "for (pattern_sentence, tag) in  xy:\n",
    "    bag = bag_of_words(pattern_sentence,all_words)\n",
    "    X_train.append(bag)\n",
    "    \n",
    "    label = tags.index(tag)\n",
    "    y_train.append(label) \n",
    "    \n",
    "X_train = np.array(X_train)\n",
    "y_train = np.array(y_train)\n",
    "\n",
    "print(X_train.shape,y_train.shape)"
   ]
  },
  {
   "cell_type": "markdown",
   "id": "f881c9c5",
   "metadata": {},
   "source": [
    "## Creating our dataset, model and defining the hyper parameters"
   ]
  },
  {
   "cell_type": "code",
   "execution_count": 11,
   "id": "87170557",
   "metadata": {},
   "outputs": [],
   "source": [
    "class ChatDataset(Dataset):\n",
    "    def __init__(self):\n",
    "        self.n_samples = len(X_train)\n",
    "        self.x_data = X_train\n",
    "        self.y_data = y_train\n",
    "        \n",
    "    def __getitem__(self, index):\n",
    "        return self.x_data[index], self.y_data[index]\n",
    "    \n",
    "    def __len__(self):\n",
    "        return self.n_samples\n",
    "    \n",
    "        "
   ]
  },
  {
   "cell_type": "markdown",
   "id": "c6452fa9",
   "metadata": {},
   "source": [
    "### Defining the neural net"
   ]
  },
  {
   "cell_type": "code",
   "execution_count": 12,
   "id": "669a79b5",
   "metadata": {},
   "outputs": [],
   "source": [
    "class NeuralNet(nn.Module):\n",
    "    def __init__(self, input_size, hidden_size, num_classes):\n",
    "        super(NeuralNet, self).__init__()\n",
    "        self.l1=nn.Linear(input_size, hidden_size)\n",
    "        self.l2=nn.Linear(hidden_size, hidden_size)\n",
    "        self.l3=nn.Linear(hidden_size, num_classes)\n",
    "        self.relu = nn.ReLU()\n",
    "        \n",
    "    def forward(self,x):\n",
    "        out = self.l1(x)\n",
    "        out = self.relu(out)\n",
    "        out = self.l2(out)\n",
    "        out = self.relu(out)\n",
    "        out = self.l3(out)\n",
    "        # No softmax for now, cross entrpy loss applies it by itself\n",
    "        \n",
    "        return out\n",
    "        \n",
    "        "
   ]
  },
  {
   "cell_type": "markdown",
   "id": "30af607d",
   "metadata": {},
   "source": [
    "### Defining the hyperparameters"
   ]
  },
  {
   "cell_type": "code",
   "execution_count": 13,
   "id": "80c0aba5",
   "metadata": {},
   "outputs": [],
   "source": [
    "#Hyper Parameters\n",
    "\n",
    "batch_size = 8\n",
    "hidden_size = 8\n",
    "output_size = len(tags)\n",
    "input_size = len(all_words)\n",
    "learning_rate = 0.001\n",
    "num_epochs = 1000\n",
    "\n",
    "dataset = ChatDataset()\n",
    "train_loader = DataLoader(dataset=dataset,batch_size=batch_size, shuffle=True, num_workers=2)\n",
    "\n",
    "device = torch.device('cuda' if torch.cuda.is_available() else 'cpu')\n",
    "model = NeuralNet(input_size,hidden_size,output_size).to(device)"
   ]
  },
  {
   "cell_type": "markdown",
   "id": "f1c958b3",
   "metadata": {},
   "source": [
    "### Defining the loss and optimizer function"
   ]
  },
  {
   "cell_type": "code",
   "execution_count": 14,
   "id": "45499121",
   "metadata": {},
   "outputs": [],
   "source": [
    "criterion = nn.CrossEntropyLoss()\n",
    "optimizer = torch.optim.Adam(model.parameters(), lr=learning_rate)"
   ]
  },
  {
   "cell_type": "code",
   "execution_count": 15,
   "id": "8b1941a3",
   "metadata": {},
   "outputs": [
    {
     "name": "stdout",
     "output_type": "stream",
     "text": [
      "epoch 100/1000, loss = 1.1590\n",
      "epoch 200/1000, loss = 0.2168\n",
      "epoch 300/1000, loss = 0.2934\n",
      "epoch 400/1000, loss = 0.0160\n",
      "epoch 500/1000, loss = 0.0074\n",
      "epoch 600/1000, loss = 0.0031\n",
      "epoch 700/1000, loss = 0.0035\n",
      "epoch 800/1000, loss = 0.0016\n",
      "epoch 900/1000, loss = 0.0011\n",
      "epoch 1000/1000, loss = 0.0006\n",
      "Final loss is 0.0006\n"
     ]
    }
   ],
   "source": [
    "for epoch in range(num_epochs):\n",
    "    for (words, labels) in train_loader:\n",
    "        words = words.to(device)\n",
    "        labels = labels.to(device)\n",
    "        \n",
    "        #Forward pass\n",
    "        outputs = model(words)\n",
    "        loss = criterion(outputs, labels)\n",
    "        \n",
    "        #Backward and optimizer step\n",
    "        optimizer.zero_grad()\n",
    "        loss.backward()\n",
    "        optimizer.step()\n",
    "        \n",
    "    if (epoch+1)%100==0:\n",
    "        print(f'epoch {epoch+1}/{num_epochs}, loss = {loss.item():.4f}')\n",
    "print(f'Final loss is {loss.item():.4f}')\n",
    "\n",
    "    "
   ]
  },
  {
   "cell_type": "code",
   "execution_count": 16,
   "id": "cfe534ad",
   "metadata": {},
   "outputs": [
    {
     "name": "stdout",
     "output_type": "stream",
     "text": [
      "Training complete, file saved to data.pth\n"
     ]
    }
   ],
   "source": [
    "data = {\n",
    "    \"model_state\" : model.state_dict(),\n",
    "    \"input_size\" : input_size,\n",
    "    \"output_size\" : output_size,\n",
    "    \"hidden_size\" : hidden_size,\n",
    "    \"all_words\" : all_words,\n",
    "    \"tags\" : tags,\n",
    "    \n",
    "}\n",
    "\n",
    "FILE = \"data.pth\"\n",
    "torch.save(data, FILE)\n",
    "\n",
    "print(f\"Training complete, file saved to {FILE}\")"
   ]
  },
  {
   "cell_type": "code",
   "execution_count": null,
   "id": "f73414c4",
   "metadata": {},
   "outputs": [],
   "source": []
  }
 ],
 "metadata": {
  "kernelspec": {
   "display_name": "Python 3 (ipykernel)",
   "language": "python",
   "name": "python3"
  },
  "language_info": {
   "codemirror_mode": {
    "name": "ipython",
    "version": 3
   },
   "file_extension": ".py",
   "mimetype": "text/x-python",
   "name": "python",
   "nbconvert_exporter": "python",
   "pygments_lexer": "ipython3",
   "version": "3.8.10"
  }
 },
 "nbformat": 4,
 "nbformat_minor": 5
}
