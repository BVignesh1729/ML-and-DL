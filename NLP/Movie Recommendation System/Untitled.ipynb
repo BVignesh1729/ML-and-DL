{
 "cells": [
  {
   "cell_type": "code",
   "execution_count": 1,
   "id": "ddd38430",
   "metadata": {},
   "outputs": [],
   "source": [
    "text = ['London Paris London', 'Paris Paris London']"
   ]
  },
  {
   "cell_type": "code",
   "execution_count": 12,
   "id": "b0b59848",
   "metadata": {},
   "outputs": [
    {
     "data": {
      "text/plain": [
       "array([[2, 1],\n",
       "       [1, 2]])"
      ]
     },
     "execution_count": 12,
     "metadata": {},
     "output_type": "execute_result"
    }
   ],
   "source": [
    "#Vectorizing each document\n",
    "from sklearn.feature_extraction.text import CountVectorizer #Class\n",
    "count = CountVectorizer()\n",
    "count.fit(text)\n",
    "# print(count.get_feature_names())\n",
    "freq = count.transform(text).toarray()\n",
    "freq"
   ]
  },
  {
   "cell_type": "code",
   "execution_count": 14,
   "id": "6bd88917",
   "metadata": {},
   "outputs": [
    {
     "data": {
      "text/plain": [
       "array([[1. , 0.8],\n",
       "       [0.8, 1. ]])"
      ]
     },
     "execution_count": 14,
     "metadata": {},
     "output_type": "execute_result"
    }
   ],
   "source": [
    "#Finding the cosine similarity\n",
    "from sklearn.metrics.pairwise import cosine_similarity #Method\n",
    "cos_dist = cosine_similarity(freq)\n",
    "cos_dist"
   ]
  },
  {
   "cell_type": "code",
   "execution_count": null,
   "id": "58d634d2",
   "metadata": {},
   "outputs": [],
   "source": []
  },
  {
   "cell_type": "code",
   "execution_count": null,
   "id": "b0d74eac",
   "metadata": {},
   "outputs": [],
   "source": []
  }
 ],
 "metadata": {
  "kernelspec": {
   "display_name": "Python 3 (ipykernel)",
   "language": "python",
   "name": "python3"
  },
  "language_info": {
   "codemirror_mode": {
    "name": "ipython",
    "version": 3
   },
   "file_extension": ".py",
   "mimetype": "text/x-python",
   "name": "python",
   "nbconvert_exporter": "python",
   "pygments_lexer": "ipython3",
   "version": "3.8.10"
  }
 },
 "nbformat": 4,
 "nbformat_minor": 5
}
