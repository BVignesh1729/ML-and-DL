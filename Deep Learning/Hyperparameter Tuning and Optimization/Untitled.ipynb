{
 "cells": [
  {
   "cell_type": "markdown",
   "id": "b315d254",
   "metadata": {},
   "source": [
    "## Intro to Tensorflow"
   ]
  },
  {
   "cell_type": "code",
   "execution_count": 11,
   "id": "0a9220d7",
   "metadata": {},
   "outputs": [],
   "source": [
    "import numpy as np\n",
    "import tensorflow as tf"
   ]
  },
  {
   "cell_type": "markdown",
   "id": "fc4300ef",
   "metadata": {},
   "source": [
    "Let us establish a cost function as follows : \n",
    "J(w) = w<sup>2</sup> - 10w + 25"
   ]
  },
  {
   "cell_type": "code",
   "execution_count": 50,
   "id": "b4b68052",
   "metadata": {},
   "outputs": [
    {
     "name": "stdout",
     "output_type": "stream",
     "text": [
      "<tf.Variable 'Variable:0' shape=() dtype=float32, numpy=0.0>\n"
     ]
    }
   ],
   "source": [
    "w = tf.Variable(0,dtype=tf.float32)\n",
    "optimizer = tf.keras.optimizers.Adam(0.1)\n",
    "\n",
    "print(w)\n"
   ]
  },
  {
   "cell_type": "code",
   "execution_count": 51,
   "id": "898c9552",
   "metadata": {},
   "outputs": [
    {
     "name": "stdout",
     "output_type": "stream",
     "text": [
      "<tf.Variable 'Variable:0' shape=() dtype=float32, numpy=0.09999997>\n"
     ]
    }
   ],
   "source": [
    "with tf.GradientTape() as tape:\n",
    "    cost = w**2 - 10*w +25\n",
    "learnable = [w]\n",
    "grads = tape.gradient(cost,learnable)\n",
    "optimizer.apply_gradients(zip(grads,learnable))\n",
    "\n",
    "print(w)"
   ]
  },
  {
   "cell_type": "markdown",
   "id": "28287650",
   "metadata": {},
   "source": [
    "The above block of code executes one step of gradient descent.\n",
    "grads stores all the gradients found using GD, while optimizer applies the gradients in Adam fashion."
   ]
  },
  {
   "cell_type": "markdown",
   "id": "83453cc8",
   "metadata": {},
   "source": [
    "To execute the GD step in epochs or iterations, we just need to define it as a function and call it as many times as we want\n"
   ]
  },
  {
   "cell_type": "code",
   "execution_count": 53,
   "id": "9fe0540e",
   "metadata": {},
   "outputs": [
    {
     "name": "stdout",
     "output_type": "stream",
     "text": [
      "<tf.Variable 'Variable:0' shape=() dtype=float32, numpy=5.0000005>\n"
     ]
    }
   ],
   "source": [
    "def train_step():\n",
    "    with tf.GradientTape() as tape:\n",
    "        cost = w**2 - 10*w +25\n",
    "    learnable = [w]\n",
    "    grads = tape.gradient(cost,learnable)\n",
    "    optimizer.apply_gradients(zip(grads,learnable))\n",
    "    \n",
    "for i in range(1000):\n",
    "    train_step()\n",
    "print(w)"
   ]
  },
  {
   "cell_type": "markdown",
   "id": "7e7cae32",
   "metadata": {},
   "source": [
    "In tensorflow, we only need to implement the forward propagation step."
   ]
  },
  {
   "cell_type": "code",
   "execution_count": 65,
   "id": "76b2dbe4",
   "metadata": {},
   "outputs": [
    {
     "name": "stdout",
     "output_type": "stream",
     "text": [
      "<tf.Variable 'Variable:0' shape=() dtype=float32, numpy=0.0>\n",
      "<tf.Variable 'Variable:0' shape=() dtype=float32, numpy=0.09999997>\n"
     ]
    }
   ],
   "source": [
    "#Example 2:\n",
    "w = tf.Variable(0,dtype=tf.float32)\n",
    "optimizer = tf.keras.optimizers.Adam(0.1)\n",
    "\n",
    "x = np.array([1.0,-10.0,25.0],dtype=np.float32)#Coefficients for the cost function\n",
    "\n",
    "def cost_fn():\n",
    "    return x[0]*(w**2) + x[1]*w + x[2]\n",
    "    \n",
    "    \n",
    "print(w) #Before GD and optimization\n",
    "\n",
    "optimizer.minimize(cost_fn,[w])## Alternative syntax for the block of code with GradientTape() and apply_gradients()\n",
    "print(w)"
   ]
  },
  {
   "cell_type": "code",
   "execution_count": 66,
   "id": "c9a1be91",
   "metadata": {},
   "outputs": [
    {
     "name": "stdout",
     "output_type": "stream",
     "text": [
      "<tf.Variable 'Variable:0' shape=() dtype=float32, numpy=5.0>\n"
     ]
    }
   ],
   "source": [
    "for i in range(10000):\n",
    "    optimizer.minimize(cost_fn,[w])\n",
    "print(w)"
   ]
  },
  {
   "cell_type": "code",
   "execution_count": null,
   "id": "7101840b",
   "metadata": {},
   "outputs": [],
   "source": []
  }
 ],
 "metadata": {
  "kernelspec": {
   "display_name": "Python 3 (ipykernel)",
   "language": "python",
   "name": "python3"
  },
  "language_info": {
   "codemirror_mode": {
    "name": "ipython",
    "version": 3
   },
   "file_extension": ".py",
   "mimetype": "text/x-python",
   "name": "python",
   "nbconvert_exporter": "python",
   "pygments_lexer": "ipython3",
   "version": "3.8.10"
  }
 },
 "nbformat": 4,
 "nbformat_minor": 5
}
