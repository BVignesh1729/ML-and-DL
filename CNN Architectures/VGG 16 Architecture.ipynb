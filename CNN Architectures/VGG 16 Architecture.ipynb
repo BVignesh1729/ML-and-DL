{
 "cells": [
  {
   "cell_type": "code",
   "execution_count": 1,
   "id": "1de5a039",
   "metadata": {},
   "outputs": [],
   "source": [
    "import torch\n",
    "import torch.nn as nn\n",
    "import torch.optim as optim\n",
    "import torch.nn.functional as F\n",
    "import torchvision.transforms as transforms\n",
    "import matplotlib.pyplot as plt\n",
    "import numpy as np\n",
    "import torchvision"
   ]
  },
  {
   "cell_type": "code",
   "execution_count": 2,
   "id": "d400a6c5",
   "metadata": {},
   "outputs": [],
   "source": [
    "VGG16CONV = [64, 64, 'M', 128, 128, 'M', 256, 256, 256, 'M', 512, 512, 512, 'M', 512, 512, 512, 'M']\n",
    "VGG16FC = [4096,4096]\n",
    "\n",
    "class VGG_Net(nn.Module):\n",
    "    def __init__(self, conv_config, fc_config, in_channels=3, num_classes=1000):\n",
    "        super(VGG_Net, self).__init__()\n",
    "        self.in_channels = in_channels\n",
    "        self.num_classes = num_classes\n",
    "        self.conv_layers = self.create_conv_layers(conv_config)\n",
    "        self.fc_in = 7*7*512\n",
    "        self.fc_layers = self.create_fc_layers(fc_config)\n",
    "        \n",
    "    def forward(self, x):\n",
    "        x = self.conv_layers(x)\n",
    "        x = x.reshape(x.shape[0],-1)\n",
    "        x = self.fc_layers(x)\n",
    "        \n",
    "        return x\n",
    "    \n",
    "    def create_conv_layers(self, architecture):\n",
    "        layers = []\n",
    "        in_channels = self.in_channels\n",
    "        \n",
    "        for c in architecture:\n",
    "            if type(c)==int:\n",
    "                out_channels = c\n",
    "                \n",
    "                layers.append(nn.Conv2d(in_channels=in_channels, out_channels=out_channels, kernel_size=(3,3), stride=(1,1), padding=(1,1)))\n",
    "                layers.append(nn.BatchNorm2d(c))\n",
    "                layers.append(nn.ReLU())\n",
    "                \n",
    "                in_channels = c\n",
    "                \n",
    "            elif c=='M':\n",
    "                layers.append(nn.MaxPool2d(kernel_size=(2,2), stride=(2,2)))\n",
    "                \n",
    "            \n",
    "        \n",
    "        return nn.Sequential(*layers)\n",
    "    \n",
    "    def create_fc_layers(self, configuration):\n",
    "        layers = []\n",
    "        \n",
    "        input_size = self.fc_in\n",
    "        for n in configuration:\n",
    "            output_size = n\n",
    "            layers.append(nn.Linear(input_size,output_size))\n",
    "            layers.append(nn.ReLU())\n",
    "            layers.append(nn.Dropout(p=0.5))\n",
    "            \n",
    "            input_size = n\n",
    "            \n",
    "        layers.append(nn.Linear(input_size, self.num_classes))\n",
    "        layers.append(nn.ReLU())\n",
    "\n",
    "        return nn.Sequential(*layers)\n",
    "        \n",
    "        \n",
    "            \n",
    "            \n",
    "        \n",
    "         "
   ]
  },
  {
   "cell_type": "code",
   "execution_count": 3,
   "id": "50f50f71",
   "metadata": {},
   "outputs": [],
   "source": [
    "model = VGG_Net(VGG16CONV, VGG16FC, in_channels=3, num_classes=1000)"
   ]
  },
  {
   "cell_type": "code",
   "execution_count": null,
   "id": "f7eec633",
   "metadata": {},
   "outputs": [],
   "source": []
  }
 ],
 "metadata": {
  "kernelspec": {
   "display_name": "Python 3 (ipykernel)",
   "language": "python",
   "name": "python3"
  },
  "language_info": {
   "codemirror_mode": {
    "name": "ipython",
    "version": 3
   },
   "file_extension": ".py",
   "mimetype": "text/x-python",
   "name": "python",
   "nbconvert_exporter": "python",
   "pygments_lexer": "ipython3",
   "version": "3.8.10"
  }
 },
 "nbformat": 4,
 "nbformat_minor": 5
}
