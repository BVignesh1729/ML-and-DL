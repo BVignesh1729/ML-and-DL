{
 "cells": [
  {
   "cell_type": "code",
   "execution_count": 15,
   "id": "51248593",
   "metadata": {},
   "outputs": [],
   "source": [
    "import torch\n",
    "import torch.nn as nn\n",
    "import torchvision\n",
    "import torchvision.transforms as transforms\n",
    "import matplotlib.pyplot as plt"
   ]
  },
  {
   "cell_type": "markdown",
   "id": "e90bc016",
   "metadata": {},
   "source": [
    "### Enabling cuda device, if available"
   ]
  },
  {
   "cell_type": "code",
   "execution_count": 16,
   "id": "ab25d50f",
   "metadata": {},
   "outputs": [],
   "source": [
    "device = torch.device('cuda' if torch.cuda.is_available() else 'cpu')"
   ]
  },
  {
   "cell_type": "markdown",
   "id": "f31ddc05",
   "metadata": {},
   "source": [
    "### Hyperparameter setting"
   ]
  },
  {
   "cell_type": "code",
   "execution_count": 17,
   "id": "58210cdf",
   "metadata": {},
   "outputs": [],
   "source": [
    "input_size = 784 #28*28 images, when flattened becomes 784*1\n",
    "hidden_size = 100\n",
    "num_classes = 10\n",
    "epochs = 10\n",
    "batch_size = 100\n",
    "learning_rate = 0.001"
   ]
  },
  {
   "cell_type": "markdown",
   "id": "acee8dbf",
   "metadata": {},
   "source": [
    "### Loading the MNIST dataset"
   ]
  },
  {
   "cell_type": "code",
   "execution_count": 18,
   "id": "e404a6bf",
   "metadata": {},
   "outputs": [],
   "source": [
    "train_data = torchvision.datasets.MNIST(root='./data', train=True, transform=transforms.ToTensor(), download=True)\n",
    "test_data = torchvision.datasets.MNIST(root='./data', train=False, transform=transforms.ToTensor())\n",
    "\n",
    "train_loader = torch.utils.data.DataLoader(dataset = train_data, batch_size=batch_size, shuffle=True)\n",
    "test_loader = torch.utils.data.DataLoader(dataset = test_data, batch_size=batch_size, shuffle=False)\n"
   ]
  },
  {
   "cell_type": "code",
   "execution_count": 6,
   "id": "c142e529",
   "metadata": {},
   "outputs": [
    {
     "name": "stdout",
     "output_type": "stream",
     "text": [
      "torch.Size([100, 1, 28, 28]) torch.Size([100])\n"
     ]
    }
   ],
   "source": [
    "sample = iter(train_loader)\n",
    "\n",
    "features, labels = sample.next()\n",
    "print(features.shape, labels.shape) ##Checking the shape"
   ]
  },
  {
   "cell_type": "code",
   "execution_count": 8,
   "id": "fb44c1ae",
   "metadata": {},
   "outputs": [
    {
     "data": {
      "image/png": "[encoded data removed]",
      "text/plain": [
       "<Figure size 432x288 with 6 Axes>"
      ]
     },
     "metadata": {
      "needs_background": "light"
     },
     "output_type": "display_data"
    }
   ],
   "source": [
    "for i in range(6):\n",
    "    plt.subplot(2,3,i+1)\n",
    "    plt.imshow(features[i][0], cmap='gray')\n",
    "    \n",
    "plt.show()"
   ]
  },
  {
   "cell_type": "markdown",
   "id": "421da79e",
   "metadata": {},
   "source": [
    "### Configuring the neural net and the loss and optimizer functions"
   ]
  },
  {
   "cell_type": "code",
   "execution_count": 10,
   "id": "f3175391",
   "metadata": {},
   "outputs": [],
   "source": [
    "class NeuralNet(nn.Module):\n",
    "    def __init__(self, input_shape, hidden_shape, output_shape):\n",
    "        super(NeuralNet, self).__init__()\n",
    "        self.l1 = nn.Linear(input_shape, hidden_shape)\n",
    "        self.relu = nn.ReLU()\n",
    "        self.l2 = nn.Linear(hidden_shape, output_shape)\n",
    "        \n",
    "    def forward(self, X):\n",
    "        out = self.l1(X)\n",
    "        out = self.relu(out)\n",
    "        out = self.l2(out)\n",
    "        #We are applying cross entropy loss. So we need not apply the softmax activation to the last layer\n",
    "        \n",
    "        return out\n",
    "    \n",
    "\n",
    "model = NeuralNet(input_size, hidden_size, num_classes)\n",
    "criterion = nn.CrossEntropyLoss()\n",
    "optimizer = torch.optim.Adam(model.parameters(), lr=learning_rate)\n",
    "    "
   ]
  },
  {
   "cell_type": "markdown",
   "id": "fd573e3e",
   "metadata": {},
   "source": [
    "### Training loop"
   ]
  },
  {
   "cell_type": "code",
   "execution_count": 14,
   "id": "f196d62e",
   "metadata": {},
   "outputs": [
    {
     "name": "stdout",
     "output_type": "stream",
     "text": [
      "epoch 0/10, step(mini-batch) 100/600, loss = 0.113475\n",
      "epoch 0/10, step(mini-batch) 200/600, loss = 0.092480\n",
      "epoch 0/10, step(mini-batch) 300/600, loss = 0.154662\n",
      "epoch 0/10, step(mini-batch) 400/600, loss = 0.145344\n",
      "epoch 0/10, step(mini-batch) 500/600, loss = 0.105420\n",
      "epoch 0/10, step(mini-batch) 600/600, loss = 0.155462\n",
      "epoch 1/10, step(mini-batch) 100/600, loss = 0.181675\n",
      "epoch 1/10, step(mini-batch) 200/600, loss = 0.228351\n",
      "epoch 1/10, step(mini-batch) 300/600, loss = 0.066433\n",
      "epoch 1/10, step(mini-batch) 400/600, loss = 0.088146\n",
      "epoch 1/10, step(mini-batch) 500/600, loss = 0.098245\n",
      "epoch 1/10, step(mini-batch) 600/600, loss = 0.164223\n",
      "epoch 2/10, step(mini-batch) 100/600, loss = 0.058355\n",
      "epoch 2/10, step(mini-batch) 200/600, loss = 0.142371\n",
      "epoch 2/10, step(mini-batch) 300/600, loss = 0.124580\n",
      "epoch 2/10, step(mini-batch) 400/600, loss = 0.089672\n",
      "epoch 2/10, step(mini-batch) 500/600, loss = 0.154072\n",
      "epoch 2/10, step(mini-batch) 600/600, loss = 0.148376\n",
      "epoch 3/10, step(mini-batch) 100/600, loss = 0.052613\n",
      "epoch 3/10, step(mini-batch) 200/600, loss = 0.114024\n",
      "epoch 3/10, step(mini-batch) 300/600, loss = 0.073465\n",
      "epoch 3/10, step(mini-batch) 400/600, loss = 0.033854\n",
      "epoch 3/10, step(mini-batch) 500/600, loss = 0.046748\n",
      "epoch 3/10, step(mini-batch) 600/600, loss = 0.039011\n",
      "epoch 4/10, step(mini-batch) 100/600, loss = 0.066500\n",
      "epoch 4/10, step(mini-batch) 200/600, loss = 0.037730\n",
      "epoch 4/10, step(mini-batch) 300/600, loss = 0.073811\n",
      "epoch 4/10, step(mini-batch) 400/600, loss = 0.077274\n",
      "epoch 4/10, step(mini-batch) 500/600, loss = 0.049982\n",
      "epoch 4/10, step(mini-batch) 600/600, loss = 0.056153\n",
      "epoch 5/10, step(mini-batch) 100/600, loss = 0.094164\n",
      "epoch 5/10, step(mini-batch) 200/600, loss = 0.008074\n",
      "epoch 5/10, step(mini-batch) 300/600, loss = 0.084278\n",
      "epoch 5/10, step(mini-batch) 400/600, loss = 0.046019\n",
      "epoch 5/10, step(mini-batch) 500/600, loss = 0.109560\n",
      "epoch 5/10, step(mini-batch) 600/600, loss = 0.024225\n",
      "epoch 6/10, step(mini-batch) 100/600, loss = 0.066263\n",
      "epoch 6/10, step(mini-batch) 200/600, loss = 0.015918\n",
      "epoch 6/10, step(mini-batch) 300/600, loss = 0.034881\n",
      "epoch 6/10, step(mini-batch) 400/600, loss = 0.036090\n",
      "epoch 6/10, step(mini-batch) 500/600, loss = 0.049159\n",
      "epoch 6/10, step(mini-batch) 600/600, loss = 0.046774\n",
      "epoch 7/10, step(mini-batch) 100/600, loss = 0.014758\n",
      "epoch 7/10, step(mini-batch) 200/600, loss = 0.025177\n",
      "epoch 7/10, step(mini-batch) 300/600, loss = 0.103286\n",
      "epoch 7/10, step(mini-batch) 400/600, loss = 0.017149\n",
      "epoch 7/10, step(mini-batch) 500/600, loss = 0.071657\n",
      "epoch 7/10, step(mini-batch) 600/600, loss = 0.010465\n",
      "epoch 8/10, step(mini-batch) 100/600, loss = 0.033472\n",
      "epoch 8/10, step(mini-batch) 200/600, loss = 0.021033\n",
      "epoch 8/10, step(mini-batch) 300/600, loss = 0.017520\n",
      "epoch 8/10, step(mini-batch) 400/600, loss = 0.057352\n",
      "epoch 8/10, step(mini-batch) 500/600, loss = 0.017180\n",
      "epoch 8/10, step(mini-batch) 600/600, loss = 0.029423\n",
      "epoch 9/10, step(mini-batch) 100/600, loss = 0.028733\n",
      "epoch 9/10, step(mini-batch) 200/600, loss = 0.019387\n",
      "epoch 9/10, step(mini-batch) 300/600, loss = 0.059022\n",
      "epoch 9/10, step(mini-batch) 400/600, loss = 0.055720\n",
      "epoch 9/10, step(mini-batch) 500/600, loss = 0.012805\n",
      "epoch 9/10, step(mini-batch) 600/600, loss = 0.022800\n"
     ]
    }
   ],
   "source": [
    "total_steps = len(train_loader)\n",
    "for epoch in range(epochs):\n",
    "    for i, (images, labels) in enumerate(train_loader):\n",
    "        #Flatten the image from (100, 1, 28,28) to (100, 784)\n",
    "        images = images.reshape(-1,28*28).to(device)\n",
    "        labels = labels.to(device)\n",
    "        #Moves to gpu if available\n",
    "        \n",
    "        #Forward\n",
    "        pred = model(images)\n",
    "        #Loss\n",
    "        loss = criterion(pred, labels)\n",
    "        #Backward pass\n",
    "        loss.backward()\n",
    "        #Update weights\n",
    "        optimizer.step()\n",
    "        #Reset gradients to 0\n",
    "        optimizer.zero_grad()\n",
    "        \n",
    "        #User prompt\n",
    "        if (i+1)%100==0:\n",
    "            print(f'epoch {epoch}/{epochs}, step(mini-batch) {i+1}/{total_steps}, loss = {loss.item():.6f}')\n",
    "            \n",
    "\n",
    "        "
   ]
  },
  {
   "cell_type": "code",
   "execution_count": 12,
   "id": "0bb7932e",
   "metadata": {},
   "outputs": [
    {
     "name": "stdout",
     "output_type": "stream",
     "text": [
      "accuracy = 94.99\n"
     ]
    }
   ],
   "source": [
    "with torch.no_grad():\n",
    "    n_correct = 0\n",
    "    n_samples = 0\n",
    "    for images, labels in test_loader:\n",
    "        images = images.reshape(-1,28*28).to(device)\n",
    "        labels = labels.to(device)\n",
    "        \n",
    "        #Predictions using trained model\n",
    "        outputs = model(images)\n",
    "        \n",
    "        #Removing one hot encoding from the predictions\n",
    "        _,predictions = torch.max(outputs, 1)\n",
    "        \n",
    "        n_samples += labels.shape[0]\n",
    "        n_correct += (predictions == labels).sum().item()\n",
    "        \n",
    "    acc = 100.0*n_correct/n_samples\n",
    "    print(f'accuracy = {acc}')"
   ]
  },
  {
   "cell_type": "code",
   "execution_count": null,
   "id": "c982e687",
   "metadata": {},
   "outputs": [],
   "source": []
  }
 ],
 "metadata": {
  "kernelspec": {
   "display_name": "Python 3 (ipykernel)",
   "language": "python",
   "name": "python3"
  },
  "language_info": {
   "codemirror_mode": {
    "name": "ipython",
    "version": 3
   },
   "file_extension": ".py",
   "mimetype": "text/x-python",
   "name": "python",
   "nbconvert_exporter": "python",
   "pygments_lexer": "ipython3",
   "version": "3.8.10"
  }
 },
 "nbformat": 4,
 "nbformat_minor": 5
}
