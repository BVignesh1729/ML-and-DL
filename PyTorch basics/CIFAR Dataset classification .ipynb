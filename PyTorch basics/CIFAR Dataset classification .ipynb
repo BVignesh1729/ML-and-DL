{
 "cells": [
  {
   "cell_type": "code",
   "execution_count": 1,
   "id": "15551f74",
   "metadata": {},
   "outputs": [],
   "source": [
    "import torch\n",
    "import torch.nn as nn\n",
    "import torch.nn.functional as F\n",
    "import torchvision.transforms as transforms\n",
    "import matplotlib.pyplot as plt\n",
    "import numpy as np\n",
    "import torchvision"
   ]
  },
  {
   "cell_type": "code",
   "execution_count": 2,
   "id": "d78331d4",
   "metadata": {},
   "outputs": [],
   "source": [
    "device = torch.device('cuda' if torch.cuda.is_available() else 'cpu')"
   ]
  },
  {
   "cell_type": "code",
   "execution_count": 30,
   "id": "a67cd08b",
   "metadata": {},
   "outputs": [],
   "source": [
    "#Hyperparameter setting\n",
    "num_epochs = 10\n",
    "batch_size = 4\n",
    "learning_rate = 0.001\n"
   ]
  },
  {
   "cell_type": "code",
   "execution_count": 6,
   "id": "10bf0d9a",
   "metadata": {},
   "outputs": [
    {
     "name": "stdout",
     "output_type": "stream",
     "text": [
      "Files already downloaded and verified\n",
      "Files already downloaded and verified\n"
     ]
    }
   ],
   "source": [
    "#Transforms\n",
    "transform = transforms.Compose([transforms.ToTensor(), transforms.Normalize((0.5,0.5,0.5), (0.5,0.5,0.5))])\n",
    "\n",
    "#Loading the datasets\n",
    "train_dataset = torchvision.datasets.CIFAR10(root='./data', train=True, download=True, transform=transform)\n",
    "\n",
    "test_dataset = torchvision.datasets.CIFAR10(root='./data', train=False, download=True, transform=transform)\n",
    "\n",
    "train_loader = torch.utils.data.DataLoader(train_dataset, batch_size=batch_size, shuffle=True)\n",
    "\n",
    "test_loader = torch.utils.data.DataLoader(test_dataset, batch_size=batch_size, shuffle=True)\n",
    "\n",
    "classes = ('plane', 'car', 'bird', 'cat', 'deer', 'dog', 'frog', 'horse', 'ship', 'truck')"
   ]
  },
  {
   "cell_type": "markdown",
   "id": "bc1574f0",
   "metadata": {},
   "source": [
    "### Implementing the Conv Net"
   ]
  },
  {
   "cell_type": "code",
   "execution_count": 34,
   "id": "bf79e8dd",
   "metadata": {},
   "outputs": [
    {
     "name": "stdout",
     "output_type": "stream",
     "text": [
      "epoch 0/10, batch 2000/12500, loss = 2.31711\n",
      "epoch 0/10, batch 4000/12500, loss = 2.30696\n",
      "epoch 0/10, batch 6000/12500, loss = 2.30231\n",
      "epoch 0/10, batch 8000/12500, loss = 2.31160\n",
      "epoch 0/10, batch 10000/12500, loss = 2.28927\n",
      "epoch 0/10, batch 12000/12500, loss = 1.96262\n",
      "epoch 1/10, batch 2000/12500, loss = 1.70053\n",
      "epoch 1/10, batch 4000/12500, loss = 2.28046\n",
      "epoch 1/10, batch 6000/12500, loss = 2.18886\n",
      "epoch 1/10, batch 8000/12500, loss = 1.64887\n",
      "epoch 1/10, batch 10000/12500, loss = 2.38928\n",
      "epoch 1/10, batch 12000/12500, loss = 2.27653\n",
      "epoch 2/10, batch 2000/12500, loss = 1.81013\n",
      "epoch 2/10, batch 4000/12500, loss = 1.82880\n",
      "epoch 2/10, batch 6000/12500, loss = 1.18706\n",
      "epoch 2/10, batch 8000/12500, loss = 1.17925\n",
      "epoch 2/10, batch 10000/12500, loss = 1.64641\n",
      "epoch 2/10, batch 12000/12500, loss = 1.23424\n",
      "epoch 3/10, batch 2000/12500, loss = 1.35684\n",
      "epoch 3/10, batch 4000/12500, loss = 1.84802\n",
      "epoch 3/10, batch 6000/12500, loss = 1.78923\n",
      "epoch 3/10, batch 8000/12500, loss = 1.68532\n",
      "epoch 3/10, batch 10000/12500, loss = 1.48115\n",
      "epoch 3/10, batch 12000/12500, loss = 1.35637\n",
      "epoch 4/10, batch 2000/12500, loss = 1.53578\n",
      "epoch 4/10, batch 4000/12500, loss = 1.73696\n",
      "epoch 4/10, batch 6000/12500, loss = 1.54481\n",
      "epoch 4/10, batch 8000/12500, loss = 1.40908\n",
      "epoch 4/10, batch 10000/12500, loss = 1.14525\n",
      "epoch 4/10, batch 12000/12500, loss = 2.43601\n",
      "epoch 5/10, batch 2000/12500, loss = 1.46876\n",
      "epoch 5/10, batch 4000/12500, loss = 2.57684\n",
      "epoch 5/10, batch 6000/12500, loss = 2.12547\n",
      "epoch 5/10, batch 8000/12500, loss = 1.22553\n",
      "epoch 5/10, batch 10000/12500, loss = 0.51415\n",
      "epoch 5/10, batch 12000/12500, loss = 2.53137\n",
      "epoch 6/10, batch 2000/12500, loss = 1.11855\n",
      "epoch 6/10, batch 4000/12500, loss = 2.09788\n",
      "epoch 6/10, batch 6000/12500, loss = 1.60458\n",
      "epoch 6/10, batch 8000/12500, loss = 2.15541\n",
      "epoch 6/10, batch 10000/12500, loss = 0.51658\n",
      "epoch 6/10, batch 12000/12500, loss = 1.01459\n",
      "epoch 7/10, batch 2000/12500, loss = 1.75561\n",
      "epoch 7/10, batch 4000/12500, loss = 1.05962\n",
      "epoch 7/10, batch 6000/12500, loss = 1.11662\n",
      "epoch 7/10, batch 8000/12500, loss = 2.03941\n",
      "epoch 7/10, batch 10000/12500, loss = 0.88894\n",
      "epoch 7/10, batch 12000/12500, loss = 0.58362\n",
      "epoch 8/10, batch 2000/12500, loss = 1.09473\n",
      "epoch 8/10, batch 4000/12500, loss = 1.17233\n",
      "epoch 8/10, batch 6000/12500, loss = 0.96415\n",
      "epoch 8/10, batch 8000/12500, loss = 1.25213\n",
      "epoch 8/10, batch 10000/12500, loss = 0.79592\n",
      "epoch 8/10, batch 12000/12500, loss = 2.06791\n",
      "epoch 9/10, batch 2000/12500, loss = 1.65720\n",
      "epoch 9/10, batch 4000/12500, loss = 1.45633\n",
      "epoch 9/10, batch 6000/12500, loss = 1.29024\n",
      "epoch 9/10, batch 8000/12500, loss = 0.85719\n",
      "epoch 9/10, batch 10000/12500, loss = 1.01377\n",
      "epoch 9/10, batch 12000/12500, loss = 0.42926\n",
      "Training completed\n"
     ]
    }
   ],
   "source": [
    "class ConvNet(nn.Module):\n",
    "    def __init__(self):\n",
    "        super(ConvNet, self).__init__()\n",
    "        self.conv1 = nn.Conv2d(3, 6, 5)\n",
    "        self.pool = nn.MaxPool2d(2, 2)\n",
    "        self.conv2 = nn.Conv2d(6, 16, 5)\n",
    "        self.fc1 = nn.Linear(16*5*5, 120)\n",
    "        self.fc2 = nn.Linear(120,84)\n",
    "        self.fc3 = nn.Linear(84,10)\n",
    "    \n",
    "    def forward(self, X):\n",
    "        X = self.pool(F.relu(self.conv1(X)))\n",
    "        X = self.pool(F.relu(self.conv2(X)))\n",
    "        X = X.reshape(-1,16*5*5)\n",
    "        X = F.relu(self.fc1(X))\n",
    "        X = F.relu(self.fc2(X))\n",
    "        X = self.fc3(X)\n",
    "        \n",
    "        return X\n",
    "        \n",
    "    \n",
    "model = ConvNet()\n",
    "criterion = nn.CrossEntropyLoss()\n",
    "optimizer = torch.optim.SGD(model.parameters(), lr=learning_rate)\n",
    "\n",
    "n_batches = len(train_loader)\n",
    "\n",
    "for epoch in range(num_epochs):\n",
    "    for i, (images, labels) in enumerate(train_loader):\n",
    "        \n",
    "        images = images.to(device)\n",
    "        labels = labels.to(device)\n",
    "        \n",
    "        #Forward pass\n",
    "        outputs = model(images)\n",
    "        loss = criterion(outputs, labels)\n",
    "        \n",
    "        #Backward pass\n",
    "        optimizer.zero_grad()\n",
    "        loss.backward()\n",
    "        optimizer.step()\n",
    "        \n",
    "        #Prompt\n",
    "        if (i+1)%2000==0:\n",
    "            print(f'epoch {epoch}/{num_epochs}, batch {i+1}/{n_batches}, loss = {loss.item():.5f}')\n",
    "            \n",
    "            \n",
    "print('Training completed')       "
   ]
  },
  {
   "cell_type": "markdown",
   "id": "2eae7014",
   "metadata": {},
   "source": [
    "### Calculating the accuracy"
   ]
  },
  {
   "cell_type": "code",
   "execution_count": 32,
   "id": "40376470",
   "metadata": {},
   "outputs": [
    {
     "name": "stdout",
     "output_type": "stream",
     "text": [
      "Accuracy is 57.38%\n"
     ]
    }
   ],
   "source": [
    "with torch.no_grad():\n",
    "    n_total = 0\n",
    "    n_correct = 0\n",
    "    for images, labels in test_loader:\n",
    "        images = images.to(device)\n",
    "        labels = labels.to(device)\n",
    "        predictions = model(images)\n",
    "        _, cls = torch.max(predictions, 1)\n",
    "        \n",
    "        n_total += labels.shape[0]\n",
    "        n_correct += (cls==labels).sum().item()\n",
    "        \n",
    "    print(f'Accuracy is {100*n_correct/n_total}%')\n",
    "    "
   ]
  },
  {
   "cell_type": "code",
   "execution_count": null,
   "id": "93064978",
   "metadata": {},
   "outputs": [],
   "source": []
  }
 ],
 "metadata": {
  "kernelspec": {
   "display_name": "Python 3 (ipykernel)",
   "language": "python",
   "name": "python3"
  },
  "language_info": {
   "codemirror_mode": {
    "name": "ipython",
    "version": 3
   },
   "file_extension": ".py",
   "mimetype": "text/x-python",
   "name": "python",
   "nbconvert_exporter": "python",
   "pygments_lexer": "ipython3",
   "version": "3.8.10"
  }
 },
 "nbformat": 4,
 "nbformat_minor": 5
}
