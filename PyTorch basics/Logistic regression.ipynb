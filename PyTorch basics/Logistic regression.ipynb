{
 "cells": [
  {
   "cell_type": "code",
   "execution_count": 52,
   "id": "0d6df002",
   "metadata": {},
   "outputs": [],
   "source": [
    "import torch\n",
    "import torch.nn as nn\n",
    "import numpy as np\n",
    "from sklearn import datasets\n",
    "from sklearn.preprocessing import StandardScaler\n",
    "from sklearn.model_selection import train_test_split\n"
   ]
  },
  {
   "cell_type": "code",
   "execution_count": 53,
   "id": "3ee8443f",
   "metadata": {},
   "outputs": [],
   "source": [
    "bc = datasets.load_breast_cancer()\n",
    "X, y = bc.data, bc.target\n",
    "\n",
    "n_samples, n_features = X.shape\n",
    "\n",
    "X_train, X_test, y_train, y_test = train_test_split(X, y, test_size=0.2, random_state=42)"
   ]
  },
  {
   "cell_type": "code",
   "execution_count": 54,
   "id": "f966585d",
   "metadata": {},
   "outputs": [],
   "source": [
    "sc = StandardScaler() ## Mostly used in case of logistic regression, since we would be using sigmoid function\n",
    "\n",
    "X_train = sc.fit_transform(X_train)\n",
    "X_test = sc.transform(X_test)\n",
    "\n",
    "X_train = torch.from_numpy(X_train.astype(np.float32))\n",
    "X_test = torch.from_numpy(X_test.astype(np.float32))\n",
    "y_train = torch.from_numpy(y_train.astype(np.float32)).reshape(-1,1)\n",
    "y_test = torch.from_numpy(y_test.astype(np.float32)).reshape(-1,1)"
   ]
  },
  {
   "cell_type": "code",
   "execution_count": 55,
   "id": "868716bb",
   "metadata": {},
   "outputs": [],
   "source": [
    "class LogisticRegression(nn.Module):\n",
    "    def __init__(self, n_input_features):\n",
    "        super(LogisticRegression, self).__init__()\n",
    "        self.linear = nn.Linear(n_input_features, 1)\n",
    "        \n",
    "    def forward(self, x):\n",
    "        y_predicted = torch.sigmoid(self.linear(x))\n",
    "        return y_predicted\n",
    "    \n",
    "model = LogisticRegression(n_features)   "
   ]
  },
  {
   "cell_type": "code",
   "execution_count": 56,
   "id": "0fbbf48f",
   "metadata": {},
   "outputs": [],
   "source": [
    "learning_rate = 0.03\n",
    "criterion = nn.BCELoss()\n",
    "optimizer = torch.optim.SGD(model.parameters(), lr=learning_rate)"
   ]
  },
  {
   "cell_type": "code",
   "execution_count": 57,
   "id": "d111e571",
   "metadata": {},
   "outputs": [
    {
     "name": "stdout",
     "output_type": "stream",
     "text": [
      "For epoch 1, loss is 0.58762997\n",
      "For epoch 11, loss is 0.36270344\n",
      "For epoch 21, loss is 0.28583804\n",
      "For epoch 31, loss is 0.24571629\n",
      "For epoch 41, loss is 0.22028738\n",
      "For epoch 51, loss is 0.20235942\n",
      "For epoch 61, loss is 0.18885821\n",
      "For epoch 71, loss is 0.17822836\n",
      "For epoch 81, loss is 0.16958684\n",
      "For epoch 91, loss is 0.16238920\n",
      "Accuracy = 0.9825\n"
     ]
    }
   ],
   "source": [
    "epochs = 100\n",
    "for epoch in range(epochs):\n",
    "    #Forward pass and loss\n",
    "    y_predicted = model(X_train)\n",
    "    loss = criterion(y_predicted, y_train)\n",
    "    #Backward pass\n",
    "    loss.backward()\n",
    "    #Update and reset\n",
    "    optimizer.step()\n",
    "    optimizer.zero_grad()\n",
    "    \n",
    "    #Prompt\n",
    "    if epoch%10==0:\n",
    "        print(f'For epoch {epoch+1}, loss is {loss.item():.8f}')\n",
    "    \n",
    "with torch.no_grad():\n",
    "    y_predicted = model(X_test)\n",
    "    y_predicted_cls = y_predicted.round()\n",
    "    acc = y_predicted_cls.eq(y_test).sum() / float(y_test.shape[0])\n",
    "    print(f'Accuracy = {acc:.4f}')"
   ]
  },
  {
   "cell_type": "code",
   "execution_count": null,
   "id": "7693c5f3",
   "metadata": {},
   "outputs": [],
   "source": []
  }
 ],
 "metadata": {
  "kernelspec": {
   "display_name": "Python 3 (ipykernel)",
   "language": "python",
   "name": "python3"
  },
  "language_info": {
   "codemirror_mode": {
    "name": "ipython",
    "version": 3
   },
   "file_extension": ".py",
   "mimetype": "text/x-python",
   "name": "python",
   "nbconvert_exporter": "python",
   "pygments_lexer": "ipython3",
   "version": "3.8.10"
  }
 },
 "nbformat": 4,
 "nbformat_minor": 5
}
