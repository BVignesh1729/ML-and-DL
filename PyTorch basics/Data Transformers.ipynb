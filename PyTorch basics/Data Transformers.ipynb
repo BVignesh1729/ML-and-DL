{
 "cells": [
  {
   "cell_type": "code",
   "execution_count": 1,
   "id": "081d5d82",
   "metadata": {},
   "outputs": [],
   "source": [
    "import torch\n",
    "import torchvision\n",
    "from torch.utils.data import Dataset, DataLoader\n",
    "import numpy as np\n",
    "import math"
   ]
  },
  {
   "cell_type": "markdown",
   "id": "7c229b9b",
   "metadata": {},
   "source": [
    "### Defining custom transforms"
   ]
  },
  {
   "cell_type": "code",
   "execution_count": 20,
   "id": "d9efdb9f",
   "metadata": {},
   "outputs": [
    {
     "name": "stdout",
     "output_type": "stream",
     "text": [
      "<class 'torch.Tensor'> <class 'torch.Tensor'>\n",
      "tensor([2.8460e+01, 3.4200e+00, 4.8600e+00, 3.1200e+01, 2.5400e+02, 5.6000e+00,\n",
      "        6.1200e+00, 5.6000e-01, 4.5800e+00, 1.1280e+01, 2.0800e+00, 7.8400e+00,\n",
      "        2.1300e+03])\n"
     ]
    }
   ],
   "source": [
    "class WineDataset(Dataset):\n",
    "    \n",
    "    def __init__(self, transform=None):\n",
    "        #Data loading\n",
    "        xy = np.loadtxt('./data/wine/wine.csv', delimiter=\",\", dtype=np.float32, skiprows=1)\n",
    "        self.x = xy[:,1:]\n",
    "        self.y = xy[:,[0]]\n",
    "        self.n_samples = xy.shape[0]\n",
    "        self.transform = transform\n",
    "        \n",
    "    def __getitem__(self, index):\n",
    "        #Return a particular element of the given index\n",
    "        sample = self.x[index], self.y[index]\n",
    "        \n",
    "        if self.transform:\n",
    "            sample = self.transform(sample)\n",
    "            \n",
    "        return sample\n",
    "    \n",
    "    def __len__(self):\n",
    "        #Number of samples\n",
    "        return self.n_samples\n",
    "    \n",
    "\n",
    "class ToTensor:\n",
    "    def __call__(self, sample):\n",
    "        features, labels = sample\n",
    "        return torch.from_numpy(features), torch.from_numpy(labels)\n",
    "    \n",
    "class MulTransform:\n",
    "    def __init__(self,f):\n",
    "        self.factor = f\n",
    "        \n",
    "    def __call__(self, sample):\n",
    "        features, labels = sample\n",
    "        \n",
    "        features *= self.factor\n",
    "        \n",
    "        return features, labels\n",
    "\n",
    "\n",
    "composite = torchvision.transforms.Compose([ToTensor(), MulTransform(2)])\n",
    "    \n",
    "dataset = WineDataset(transform=composite)\n",
    "first_data = dataset[0]\n",
    "features, labels = first_data\n",
    "print(type(features), type(labels))\n",
    "print(features)"
   ]
  },
  {
   "cell_type": "markdown",
   "id": "5ea1afc8",
   "metadata": {},
   "source": [
    "In the previous exercise, we would've converted the loaded numpy array to tensor in the `WineDataset's` `init` function. But here, we pass another argument called `transform` to the `init` function of the `WineDataset`, which is a callable instance of any transform class that we define. We have defined a class `ToTensor`, that converts a sample to a tensor, and have used this in the `WineDataset` class's `getitem` function to return a sample after converting it to a tensor. Similarly we have implemented a transformer class that transforms the data by multiplying by a factor `f`."
   ]
  },
  {
   "cell_type": "markdown",
   "id": "764b7b59",
   "metadata": {},
   "source": [
    "We can create composite transforms with the help of torchvision's `Compose` module, which accepts a list of transforms as its argument and applies the transforms in the order given in the list. There is no need to create an instance of composite as it by itself is an object that is callable. So we simply pass it as the `transform` argument."
   ]
  },
  {
   "cell_type": "code",
   "execution_count": null,
   "id": "30b8f4bd",
   "metadata": {},
   "outputs": [],
   "source": []
  }
 ],
 "metadata": {
  "kernelspec": {
   "display_name": "Python 3 (ipykernel)",
   "language": "python",
   "name": "python3"
  },
  "language_info": {
   "codemirror_mode": {
    "name": "ipython",
    "version": 3
   },
   "file_extension": ".py",
   "mimetype": "text/x-python",
   "name": "python",
   "nbconvert_exporter": "python",
   "pygments_lexer": "ipython3",
   "version": "3.8.10"
  }
 },
 "nbformat": 4,
 "nbformat_minor": 5
}
