{
 "cells": [
  {
   "cell_type": "code",
   "execution_count": 2,
   "id": "31eb3dfa",
   "metadata": {},
   "outputs": [],
   "source": [
    "import torch"
   ]
  },
  {
   "cell_type": "markdown",
   "id": "3fcc4182",
   "metadata": {},
   "source": [
    "### Initializing tensors"
   ]
  },
  {
   "cell_type": "code",
   "execution_count": 3,
   "id": "0762c335",
   "metadata": {},
   "outputs": [
    {
     "data": {
      "text/plain": [
       "tensor([[1., 2., 3.],\n",
       "        [4., 5., 6.]])"
      ]
     },
     "execution_count": 3,
     "metadata": {},
     "output_type": "execute_result"
    }
   ],
   "source": [
    "my_tensor = torch.tensor([[1,2,3], [4,5,6]], dtype=torch.float32, device=\"cpu\")\n",
    "my_tensor"
   ]
  },
  {
   "cell_type": "markdown",
   "id": "7737a2a7",
   "metadata": {},
   "source": [
    "If CUDA enabled GPU is present, move tensor to GPU using \"device\" parameter. By default, tensor gets placed in the CPU."
   ]
  },
  {
   "cell_type": "code",
   "execution_count": 4,
   "id": "1d0da3fc",
   "metadata": {},
   "outputs": [
    {
     "data": {
      "text/plain": [
       "'cpu'"
      ]
     },
     "execution_count": 4,
     "metadata": {},
     "output_type": "execute_result"
    }
   ],
   "source": [
    "device = \"cuda\" if torch.cuda.is_available() else \"cpu\"\n",
    "device"
   ]
  },
  {
   "cell_type": "markdown",
   "id": "7bfe2134",
   "metadata": {},
   "source": [
    "CUDA GPU is not present in this laptop"
   ]
  },
  {
   "cell_type": "code",
   "execution_count": 5,
   "id": "b2d17f9e",
   "metadata": {},
   "outputs": [
    {
     "name": "stdout",
     "output_type": "stream",
     "text": [
      "tensor([[1., 2., 3.],\n",
      "        [4., 5., 6.]])\n",
      "torch.float32\n",
      "cpu\n",
      "torch.Size([2, 3])\n",
      "False\n"
     ]
    }
   ],
   "source": [
    "print(my_tensor)\n",
    "print(my_tensor.dtype)\n",
    "print(my_tensor.device)\n",
    "print(my_tensor.shape)\n",
    "print(my_tensor.requires_grad) ##Specific to gradient descent"
   ]
  },
  {
   "cell_type": "markdown",
   "id": "5ea22fbb",
   "metadata": {},
   "source": [
    "### Alternate initialisations"
   ]
  },
  {
   "cell_type": "code",
   "execution_count": 6,
   "id": "5443c01e",
   "metadata": {},
   "outputs": [
    {
     "data": {
      "text/plain": [
       "tensor([[0., 0., 0.],\n",
       "        [0., 0., 0.],\n",
       "        [0., 0., 0.]])"
      ]
     },
     "execution_count": 6,
     "metadata": {},
     "output_type": "execute_result"
    }
   ],
   "source": [
    "x = torch.empty(size = (3,3))\n",
    "x\n",
    "\n",
    "## torch.empty can be used to create empty tensors without values, for a given shape.\n",
    "## Initialises tensor with random values from CPU"
   ]
  },
  {
   "cell_type": "code",
   "execution_count": 7,
   "id": "2e2dc9b4",
   "metadata": {},
   "outputs": [
    {
     "data": {
      "text/plain": [
       "tensor([[0., 0., 0.],\n",
       "        [0., 0., 0.],\n",
       "        [0., 0., 0.]])"
      ]
     },
     "execution_count": 7,
     "metadata": {},
     "output_type": "execute_result"
    }
   ],
   "source": [
    "x = torch.zeros((3,3))\n",
    "x\n",
    "\n",
    "## Initialises tensor with 0's for the given shape"
   ]
  },
  {
   "cell_type": "code",
   "execution_count": 8,
   "id": "77edeee1",
   "metadata": {},
   "outputs": [
    {
     "data": {
      "text/plain": [
       "tensor([[1., 1., 1.],\n",
       "        [1., 1., 1.],\n",
       "        [1., 1., 1.]])"
      ]
     },
     "execution_count": 8,
     "metadata": {},
     "output_type": "execute_result"
    }
   ],
   "source": [
    "x = torch.ones((3,3))\n",
    "x\n",
    "\n",
    "## Initialises tensor with 1's for the given shape"
   ]
  },
  {
   "cell_type": "code",
   "execution_count": 9,
   "id": "154b0d23",
   "metadata": {},
   "outputs": [
    {
     "data": {
      "text/plain": [
       "tensor([[0.9854, 0.8845, 0.6149],\n",
       "        [0.2734, 0.2384, 0.0807],\n",
       "        [0.9024, 0.0319, 0.4593]])"
      ]
     },
     "execution_count": 9,
     "metadata": {},
     "output_type": "execute_result"
    }
   ],
   "source": [
    "x = torch.rand((3,3))\n",
    "x\n",
    "\n",
    "## Initialises the tensor with values from a uniform distribution between 0 and 1"
   ]
  },
  {
   "cell_type": "code",
   "execution_count": 10,
   "id": "fd6b707c",
   "metadata": {},
   "outputs": [
    {
     "data": {
      "text/plain": [
       "tensor([[1., 0., 0., 0., 0.],\n",
       "        [0., 1., 0., 0., 0.],\n",
       "        [0., 0., 1., 0., 0.],\n",
       "        [0., 0., 0., 1., 0.],\n",
       "        [0., 0., 0., 0., 1.]])"
      ]
     },
     "execution_count": 10,
     "metadata": {},
     "output_type": "execute_result"
    }
   ],
   "source": [
    "x = torch.eye(5,5)\n",
    "x\n",
    "\n",
    "## Initialises with identity matrix for the given shape"
   ]
  },
  {
   "cell_type": "code",
   "execution_count": 11,
   "id": "a2381e4b",
   "metadata": {},
   "outputs": [
    {
     "data": {
      "text/plain": [
       "tensor([0.1000, 1.1000, 2.1000, 3.1000])"
      ]
     },
     "execution_count": 11,
     "metadata": {},
     "output_type": "execute_result"
    }
   ],
   "source": [
    "x = torch.arange(start=0.1,end=4,step=1)\n",
    "x\n",
    "\n",
    "## Similar to range funtion from python(start is inclusive, end is exclusive, step is the step size)"
   ]
  },
  {
   "cell_type": "code",
   "execution_count": 12,
   "id": "20cf7217",
   "metadata": {},
   "outputs": [
    {
     "data": {
      "text/plain": [
       "tensor([0.1000, 0.1750, 0.2500, 0.3250, 0.4000, 0.4750, 0.5500, 0.6250, 0.7000,\n",
       "        0.7750, 0.8500, 0.9250, 1.0000])"
      ]
     },
     "execution_count": 12,
     "metadata": {},
     "output_type": "execute_result"
    }
   ],
   "source": [
    "x = torch.linspace(start=0.1, end=1, steps=13)\n",
    "x\n",
    "\n",
    "## Similar to linspace in python(start and end are both inclusive, steps is the number of values in the inclusive interval)"
   ]
  },
  {
   "cell_type": "code",
   "execution_count": 13,
   "id": "838bcf68",
   "metadata": {},
   "outputs": [
    {
     "data": {
      "text/plain": [
       "tensor([[ 2.2643,  0.8712,  0.2172],\n",
       "        [ 0.1021,  1.7420, -1.3092],\n",
       "        [ 1.4262,  0.8295,  0.4208]])"
      ]
     },
     "execution_count": 13,
     "metadata": {},
     "output_type": "execute_result"
    }
   ],
   "source": [
    "x = torch.empty((3,3)).normal_(mean=0, std=1)\n",
    "x\n",
    "\n",
    "## Initialises from normal dist with mean 0 and stdev 1"
   ]
  },
  {
   "cell_type": "code",
   "execution_count": 14,
   "id": "c1f4a0b8",
   "metadata": {},
   "outputs": [
    {
     "data": {
      "text/plain": [
       "tensor([[0.8889, 0.7653, 0.4151],\n",
       "        [0.6854, 0.5481, 0.9769],\n",
       "        [0.2556, 0.7450, 0.0264]])"
      ]
     },
     "execution_count": 14,
     "metadata": {},
     "output_type": "execute_result"
    }
   ],
   "source": [
    "x = torch.empty((3,3)).uniform_(0,1)\n",
    "x\n",
    "\n",
    "## Initialises from uniform dist between 0 and 1"
   ]
  },
  {
   "cell_type": "code",
   "execution_count": 15,
   "id": "b6486574",
   "metadata": {},
   "outputs": [
    {
     "data": {
      "text/plain": [
       "tensor([[0.4043, 0.0000, 0.0000, 0.0000],\n",
       "        [0.0000, 0.3012, 0.0000, 0.0000],\n",
       "        [0.0000, 0.0000, 0.5544, 0.0000],\n",
       "        [0.0000, 0.0000, 0.0000, 0.7695]])"
      ]
     },
     "execution_count": 15,
     "metadata": {},
     "output_type": "execute_result"
    }
   ],
   "source": [
    "x = torch.diag(torch.rand(4))\n",
    "x\n",
    "\n",
    "## Initialises the diagonal matrix with whatever distribution we choose the diagonal elements from(Here, we have taken from the uniform distribution)"
   ]
  },
  {
   "cell_type": "markdown",
   "id": "2f77f56d",
   "metadata": {},
   "source": [
    "### Converting tensors to other dataypes"
   ]
  },
  {
   "cell_type": "code",
   "execution_count": 16,
   "id": "d73c589d",
   "metadata": {},
   "outputs": [
    {
     "name": "stdout",
     "output_type": "stream",
     "text": [
      "tensor([0, 1, 2, 3]) torch.int64\n"
     ]
    }
   ],
   "source": [
    "t = torch.arange(4)\n",
    "print(t, t.dtype)"
   ]
  },
  {
   "cell_type": "code",
   "execution_count": 17,
   "id": "f5c99462",
   "metadata": {},
   "outputs": [
    {
     "name": "stdout",
     "output_type": "stream",
     "text": [
      "tensor([False,  True,  True,  True])\n",
      "tensor([0, 1, 2, 3], dtype=torch.int16)\n",
      "tensor([0, 1, 2, 3])\n",
      "tensor([0., 1., 2., 3.], dtype=torch.float16)\n",
      "tensor([0., 1., 2., 3.])\n",
      "tensor([0., 1., 2., 3.], dtype=torch.float64)\n"
     ]
    }
   ],
   "source": [
    "print(t.bool()) # boolean\n",
    "print(t.short()) # int16\n",
    "print(t.long()) # int64(important)\n",
    "print(t.half()) # float16\n",
    "print(t.float()) # float32(important)\n",
    "print(t.double()) # float64"
   ]
  },
  {
   "cell_type": "markdown",
   "id": "ae814461",
   "metadata": {},
   "source": [
    "### Array to tensor and vice versa"
   ]
  },
  {
   "cell_type": "code",
   "execution_count": 18,
   "id": "4d273088",
   "metadata": {},
   "outputs": [
    {
     "data": {
      "text/plain": [
       "array([1, 2, 3, 4])"
      ]
     },
     "execution_count": 18,
     "metadata": {},
     "output_type": "execute_result"
    }
   ],
   "source": [
    "import numpy as np\n",
    "array = np.array([1,2,3,4])\n",
    "array"
   ]
  },
  {
   "cell_type": "code",
   "execution_count": 19,
   "id": "171b2986",
   "metadata": {},
   "outputs": [
    {
     "data": {
      "text/plain": [
       "tensor([1, 2, 3, 4])"
      ]
     },
     "execution_count": 19,
     "metadata": {},
     "output_type": "execute_result"
    }
   ],
   "source": [
    "tensor = torch.from_numpy(array)\n",
    "tensor"
   ]
  },
  {
   "cell_type": "code",
   "execution_count": 20,
   "id": "eebbf04d",
   "metadata": {},
   "outputs": [
    {
     "data": {
      "text/plain": [
       "array([1, 2, 3, 4])"
      ]
     },
     "execution_count": 20,
     "metadata": {},
     "output_type": "execute_result"
    }
   ],
   "source": [
    "array_back = tensor.numpy()\n",
    "array_back"
   ]
  },
  {
   "cell_type": "code",
   "execution_count": 21,
   "id": "91c48182",
   "metadata": {},
   "outputs": [
    {
     "name": "stdout",
     "output_type": "stream",
     "text": [
      "[ 1 10  3  4]\n",
      "tensor([ 1, 10,  3,  4])\n",
      "[ 1 10  3  4]\n"
     ]
    }
   ],
   "source": [
    "array[1] = 10\n",
    "print(array)\n",
    "print(tensor)\n",
    "print(array_back)"
   ]
  },
  {
   "cell_type": "markdown",
   "id": "0e9f238d",
   "metadata": {},
   "source": [
    "NOTE : Although we converted array to tensor, the identifiers still point to the same location in memory, and thus updating one updates the other one too"
   ]
  },
  {
   "cell_type": "markdown",
   "id": "2315daf1",
   "metadata": {},
   "source": [
    "### Math operations on tensors"
   ]
  },
  {
   "cell_type": "code",
   "execution_count": 22,
   "id": "4532f580",
   "metadata": {},
   "outputs": [],
   "source": [
    "x = torch.tensor([1,2,3])\n",
    "y = torch.tensor([9,8,7])"
   ]
  },
  {
   "cell_type": "code",
   "execution_count": 23,
   "id": "f0ec7c21",
   "metadata": {},
   "outputs": [
    {
     "data": {
      "text/plain": [
       "tensor([10., 10., 10.])"
      ]
     },
     "execution_count": 23,
     "metadata": {},
     "output_type": "execute_result"
    }
   ],
   "source": [
    "#Addition\n",
    "z1 = torch.empty(3)\n",
    "torch.add(x,y,out=z1)\n",
    "z1"
   ]
  },
  {
   "cell_type": "code",
   "execution_count": 24,
   "id": "d266547f",
   "metadata": {},
   "outputs": [
    {
     "data": {
      "text/plain": [
       "tensor([10, 10, 10])"
      ]
     },
     "execution_count": 24,
     "metadata": {},
     "output_type": "execute_result"
    }
   ],
   "source": [
    "z2 = torch.add(x,y)\n",
    "z2"
   ]
  },
  {
   "cell_type": "code",
   "execution_count": 25,
   "id": "77e5219a",
   "metadata": {},
   "outputs": [
    {
     "data": {
      "text/plain": [
       "tensor([10, 10, 10])"
      ]
     },
     "execution_count": 25,
     "metadata": {},
     "output_type": "execute_result"
    }
   ],
   "source": [
    "z3 = x+y\n",
    "z3"
   ]
  },
  {
   "cell_type": "code",
   "execution_count": 26,
   "id": "3b77644c",
   "metadata": {},
   "outputs": [
    {
     "data": {
      "text/plain": [
       "tensor([1., 2., 3.])"
      ]
     },
     "execution_count": 26,
     "metadata": {},
     "output_type": "execute_result"
    }
   ],
   "source": [
    "## Inplace addition\n",
    "t = torch.zeros(3)\n",
    "t.add_(x)"
   ]
  },
  {
   "cell_type": "code",
   "execution_count": 27,
   "id": "d7327ba0",
   "metadata": {},
   "outputs": [
    {
     "data": {
      "text/plain": [
       "tensor([-8, -6, -4])"
      ]
     },
     "execution_count": 27,
     "metadata": {},
     "output_type": "execute_result"
    }
   ],
   "source": [
    "#Subtraction\n",
    "z1 = x-y\n",
    "z1"
   ]
  },
  {
   "cell_type": "code",
   "execution_count": 28,
   "id": "ebe3f05e",
   "metadata": {},
   "outputs": [
    {
     "data": {
      "text/plain": [
       "tensor([0.1111, 0.2500, 0.4286])"
      ]
     },
     "execution_count": 28,
     "metadata": {},
     "output_type": "execute_result"
    }
   ],
   "source": [
    "#Division\n",
    "z = torch.true_divide(x,y)\n",
    "z\n",
    "\n",
    "## Division happens element wise if both the tensors have the same shape. In case of one of them being a pure scalar, it is broadcasted into the other tensor"
   ]
  },
  {
   "cell_type": "code",
   "execution_count": 29,
   "id": "e816e2e5",
   "metadata": {},
   "outputs": [
    {
     "data": {
      "text/plain": [
       "tensor([2., 4., 6.])"
      ]
     },
     "execution_count": 29,
     "metadata": {},
     "output_type": "execute_result"
    }
   ],
   "source": [
    "## Inplace addition (alternate)\n",
    "t += x\n",
    "t"
   ]
  },
  {
   "cell_type": "markdown",
   "id": "edb3d016",
   "metadata": {},
   "source": [
    "NOTE : t = t+x IS NOT inplace, while t += x IS inplace"
   ]
  },
  {
   "cell_type": "code",
   "execution_count": 30,
   "id": "bb345c61",
   "metadata": {},
   "outputs": [
    {
     "data": {
      "text/plain": [
       "tensor([1, 4, 9])"
      ]
     },
     "execution_count": 30,
     "metadata": {},
     "output_type": "execute_result"
    }
   ],
   "source": [
    "## Exponentiation\n",
    "z = x.pow(2)\n",
    "z"
   ]
  },
  {
   "cell_type": "code",
   "execution_count": 32,
   "id": "b6b73d10",
   "metadata": {},
   "outputs": [
    {
     "data": {
      "text/plain": [
       "tensor([81, 64, 49])"
      ]
     },
     "execution_count": 32,
     "metadata": {},
     "output_type": "execute_result"
    }
   ],
   "source": [
    "z = y**2\n",
    "z"
   ]
  },
  {
   "cell_type": "code",
   "execution_count": 34,
   "id": "fd9c1707",
   "metadata": {},
   "outputs": [
    {
     "data": {
      "text/plain": [
       "tensor([True, True, True])"
      ]
     },
     "execution_count": 34,
     "metadata": {},
     "output_type": "execute_result"
    }
   ],
   "source": [
    "## Simple comparision\n",
    "z = x>0\n",
    "z"
   ]
  },
  {
   "cell_type": "code",
   "execution_count": 35,
   "id": "f8d12594",
   "metadata": {},
   "outputs": [
    {
     "data": {
      "text/plain": [
       "tensor([False, False, False])"
      ]
     },
     "execution_count": 35,
     "metadata": {},
     "output_type": "execute_result"
    }
   ],
   "source": [
    "z = x<0\n",
    "z"
   ]
  },
  {
   "cell_type": "code",
   "execution_count": 36,
   "id": "57cdad78",
   "metadata": {},
   "outputs": [
    {
     "data": {
      "text/plain": [
       "tensor([[1.0590, 1.0705, 1.2591],\n",
       "        [0.6755, 0.7336, 0.8229]])"
      ]
     },
     "execution_count": 36,
     "metadata": {},
     "output_type": "execute_result"
    }
   ],
   "source": [
    "## Matrix multiplication\n",
    "x1 = torch.rand((2,5))\n",
    "x2 = torch.rand((5,3))\n",
    "\n",
    "x3 = torch.mm(x1,x2)\n",
    "x3"
   ]
  },
  {
   "cell_type": "code",
   "execution_count": 37,
   "id": "9929b89a",
   "metadata": {},
   "outputs": [
    {
     "data": {
      "text/plain": [
       "tensor([[1.0590, 1.0705, 1.2591],\n",
       "        [0.6755, 0.7336, 0.8229]])"
      ]
     },
     "execution_count": 37,
     "metadata": {},
     "output_type": "execute_result"
    }
   ],
   "source": [
    "x4 = x1.mm(x2)\n",
    "x4"
   ]
  },
  {
   "cell_type": "code",
   "execution_count": 47,
   "id": "0c20f862",
   "metadata": {},
   "outputs": [
    {
     "name": "stdout",
     "output_type": "stream",
     "text": [
      "tensor([[2.2277, 1.1587, 2.1961, 2.0758, 2.6785],\n",
      "        [3.0729, 1.6785, 3.1527, 2.9327, 3.7461],\n",
      "        [4.6830, 2.7269, 5.0174, 4.7435, 6.1080],\n",
      "        [5.8301, 3.2135, 6.0120, 5.6378, 7.2492],\n",
      "        [5.3739, 2.9831, 5.5401, 5.2360, 6.7670]])\n"
     ]
    }
   ],
   "source": [
    "##Matrix exponentiation\n",
    "\n",
    "matrix_exp = torch.rand((5,5))\n",
    "print(matrix_exp.matrix_power(3))"
   ]
  },
  {
   "cell_type": "code",
   "execution_count": 48,
   "id": "e76afe58",
   "metadata": {},
   "outputs": [
    {
     "data": {
      "text/plain": [
       "tensor([ 9, 16, 21])"
      ]
     },
     "execution_count": 48,
     "metadata": {},
     "output_type": "execute_result"
    }
   ],
   "source": [
    "##Element wise multiplication\n",
    "\n",
    "z = x*y\n",
    "z"
   ]
  },
  {
   "cell_type": "code",
   "execution_count": 50,
   "id": "12aab1bb",
   "metadata": {},
   "outputs": [
    {
     "data": {
      "text/plain": [
       "tensor(46)"
      ]
     },
     "execution_count": 50,
     "metadata": {},
     "output_type": "execute_result"
    }
   ],
   "source": [
    "##Dot product\n",
    "\n",
    "z = torch.dot(x,y)\n",
    "z"
   ]
  },
  {
   "cell_type": "code",
   "execution_count": 51,
   "id": "c20c4cad",
   "metadata": {},
   "outputs": [
    {
     "data": {
      "text/plain": [
       "tensor([[[5.3743, 5.9356, 6.2739,  ..., 5.6696, 5.0998, 4.8168],\n",
       "         [3.7748, 4.1940, 5.4176,  ..., 4.5453, 3.6027, 3.6980],\n",
       "         [4.2739, 5.1057, 5.6470,  ..., 5.6089, 4.0610, 4.1700],\n",
       "         ...,\n",
       "         [5.0254, 5.2975, 6.1697,  ..., 5.5241, 4.3352, 4.9682],\n",
       "         [4.3430, 5.1002, 6.4227,  ..., 5.6843, 4.5378, 4.2600],\n",
       "         [3.4315, 4.2589, 4.4090,  ..., 3.6245, 2.7094, 3.0977]],\n",
       "\n",
       "        [[4.7820, 7.2092, 6.8624,  ..., 5.9440, 5.3648, 6.0159],\n",
       "         [2.9775, 3.8011, 4.3128,  ..., 4.6675, 3.5387, 4.6087],\n",
       "         [3.8694, 5.9921, 5.8263,  ..., 5.8248, 4.8793, 5.6697],\n",
       "         ...,\n",
       "         [4.1797, 5.9693, 5.8498,  ..., 5.3984, 4.4180, 5.2848],\n",
       "         [4.1214, 5.7467, 6.1277,  ..., 5.2335, 5.0430, 4.9260],\n",
       "         [4.4437, 5.2013, 5.5556,  ..., 5.1002, 4.5187, 5.7192]],\n",
       "\n",
       "        [[6.0705, 4.4346, 4.0716,  ..., 5.6928, 5.0337, 5.8441],\n",
       "         [7.0880, 5.3396, 4.4342,  ..., 5.4583, 4.8665, 5.6070],\n",
       "         [6.7446, 5.8855, 5.3710,  ..., 5.1867, 5.2630, 5.8450],\n",
       "         ...,\n",
       "         [5.2224, 4.5438, 3.2680,  ..., 4.4246, 4.7874, 5.4169],\n",
       "         [6.1264, 5.2781, 4.1915,  ..., 4.9816, 5.3638, 5.8718],\n",
       "         [4.6698, 4.0328, 3.6423,  ..., 4.3717, 4.4018, 5.3973]],\n",
       "\n",
       "        ...,\n",
       "\n",
       "        [[3.5485, 3.5720, 4.4427,  ..., 4.2599, 4.7865, 2.9899],\n",
       "         [4.0045, 5.2988, 6.3966,  ..., 5.5617, 6.0240, 4.9264],\n",
       "         [4.4496, 3.9373, 6.0520,  ..., 4.6140, 5.1732, 4.8205],\n",
       "         ...,\n",
       "         [3.4213, 3.2703, 5.1465,  ..., 4.5983, 5.1679, 3.7329],\n",
       "         [3.7544, 4.3881, 5.6297,  ..., 6.0717, 5.9585, 4.6687],\n",
       "         [3.9730, 3.8707, 5.2683,  ..., 5.8392, 5.5384, 4.7803]],\n",
       "\n",
       "        [[4.4091, 3.6711, 4.3149,  ..., 3.4408, 5.1418, 4.5417],\n",
       "         [4.0411, 3.6579, 5.0382,  ..., 4.3055, 4.9693, 5.1754],\n",
       "         [4.0590, 5.2003, 5.6767,  ..., 4.8164, 5.7589, 5.6465],\n",
       "         ...,\n",
       "         [4.6917, 4.3216, 4.2223,  ..., 3.3000, 4.6622, 4.5448],\n",
       "         [5.1324, 4.9194, 6.3220,  ..., 5.7708, 6.8325, 6.5416],\n",
       "         [4.8043, 3.3762, 5.3569,  ..., 4.8379, 5.0980, 5.6275]],\n",
       "\n",
       "        [[5.3405, 5.7230, 5.9312,  ..., 4.8669, 5.2370, 4.9863],\n",
       "         [4.4776, 5.0345, 4.8489,  ..., 4.3088, 4.6080, 4.3191],\n",
       "         [4.5714, 4.9165, 3.9888,  ..., 3.9778, 4.4255, 3.7801],\n",
       "         ...,\n",
       "         [5.5264, 5.7178, 4.8199,  ..., 4.8143, 5.1191, 4.7455],\n",
       "         [5.4818, 5.7508, 4.8008,  ..., 4.2894, 4.2699, 4.9886],\n",
       "         [4.5386, 4.3989, 4.8251,  ..., 3.9766, 3.9895, 4.4318]]])"
      ]
     },
     "execution_count": 51,
     "metadata": {},
     "output_type": "execute_result"
    }
   ],
   "source": [
    "batch = 32\n",
    "n = 10\n",
    "m = 20\n",
    "p = 30\n",
    "\n",
    "t1 = torch.rand((batch,n,m))\n",
    "t2 = torch.rand((batch,m,p))\n",
    "out_bmm = torch.bmm(t1,t2) # (batch,n,p)\n",
    "out_bmm"
   ]
  },
  {
   "cell_type": "code",
   "execution_count": 52,
   "id": "f92601c0",
   "metadata": {},
   "outputs": [
    {
     "data": {
      "text/plain": [
       "tensor([[ 0.2298,  0.0115,  0.2627,  0.1130, -0.5022],\n",
       "        [-0.2346,  0.0816, -0.4280,  0.5190, -0.4093],\n",
       "        [-0.0256,  0.6345,  0.1667,  0.1398, -0.0944],\n",
       "        [-0.1024,  0.7587, -0.3716,  0.4270, -0.3659],\n",
       "        [ 0.3408, -0.0285, -0.2388, -0.0349,  0.1356]])"
      ]
     },
     "execution_count": 52,
     "metadata": {},
     "output_type": "execute_result"
    }
   ],
   "source": [
    "##Broadcasting\n",
    "x1 = torch.rand((5,5))\n",
    "x2 = torch.rand((1,5))\n",
    "\n",
    "z = x1-x2\n",
    "z"
   ]
  },
  {
   "cell_type": "markdown",
   "id": "dcb2e90c",
   "metadata": {},
   "source": [
    "The row vector is broadcasted by concatenating it over itself 5 times(to match the number of rows of x2)."
   ]
  },
  {
   "cell_type": "code",
   "execution_count": 57,
   "id": "61d32546",
   "metadata": {},
   "outputs": [
    {
     "data": {
      "text/plain": [
       "tensor([[0.8260, 0.7316, 0.9210, 0.7639, 0.3574],\n",
       "        [0.4484, 0.7749, 0.3545, 0.9561, 0.4515],\n",
       "        [0.6772, 0.9646, 0.8578, 0.7792, 0.7344],\n",
       "        [0.6142, 0.9921, 0.4177, 0.9185, 0.4932],\n",
       "        [0.8753, 0.7016, 0.5469, 0.6673, 0.9202]])"
      ]
     },
     "execution_count": 57,
     "metadata": {},
     "output_type": "execute_result"
    }
   ],
   "source": [
    "z = x1**x2 ## Element wise exponentiation\n",
    "z"
   ]
  },
  {
   "cell_type": "code",
   "execution_count": 63,
   "id": "2239327b",
   "metadata": {},
   "outputs": [
    {
     "data": {
      "text/plain": [
       "tensor([[0.5393, 0.2145, 0.8741, 0.4784, 0.2587],\n",
       "        [0.0749, 0.2846, 0.1834, 0.8844, 0.3516],\n",
       "        [0.2838, 0.8375, 0.7781, 0.5051, 0.6665],\n",
       "        [0.2070, 0.9617, 0.2398, 0.7924, 0.3950],\n",
       "        [0.6503, 0.1745, 0.3726, 0.3305, 0.8965]])"
      ]
     },
     "execution_count": 63,
     "metadata": {},
     "output_type": "execute_result"
    }
   ],
   "source": [
    "x1"
   ]
  },
  {
   "cell_type": "markdown",
   "id": "5a17ace9",
   "metadata": {},
   "source": [
    "### Other useful tensor operations"
   ]
  },
  {
   "cell_type": "code",
   "execution_count": 64,
   "id": "c7cf4425",
   "metadata": {},
   "outputs": [
    {
     "data": {
      "text/plain": [
       "tensor([1.7553, 2.4729, 2.4480, 2.9909, 2.5683])"
      ]
     },
     "execution_count": 64,
     "metadata": {},
     "output_type": "execute_result"
    }
   ],
   "source": [
    "sum_x = torch.sum(x1, dim = 0)\n",
    "sum_x"
   ]
  },
  {
   "cell_type": "code",
   "execution_count": 65,
   "id": "80cf99fc",
   "metadata": {},
   "outputs": [
    {
     "data": {
      "text/plain": [
       "(tensor([0.8741, 0.8844, 0.8375, 0.9617, 0.8965]), tensor([2, 3, 1, 1, 4]))"
      ]
     },
     "execution_count": 65,
     "metadata": {},
     "output_type": "execute_result"
    }
   ],
   "source": [
    "values, indices = torch.max(x1, dim=1)\n",
    "values, indices"
   ]
  },
  {
   "cell_type": "code",
   "execution_count": 66,
   "id": "3a3212ca",
   "metadata": {},
   "outputs": [
    {
     "data": {
      "text/plain": [
       "(tensor([0.2145, 0.0749, 0.2838, 0.2070, 0.1745]), tensor([1, 0, 0, 0, 1]))"
      ]
     },
     "execution_count": 66,
     "metadata": {},
     "output_type": "execute_result"
    }
   ],
   "source": [
    "values, indices = torch.min(x1, dim=1)\n",
    "values, indices"
   ]
  },
  {
   "cell_type": "code",
   "execution_count": 68,
   "id": "a4991ab8",
   "metadata": {},
   "outputs": [
    {
     "data": {
      "text/plain": [
       "tensor([[0.5393, 0.2145, 0.8741, 0.4784, 0.2587],\n",
       "        [0.0749, 0.2846, 0.1834, 0.8844, 0.3516],\n",
       "        [0.2838, 0.8375, 0.7781, 0.5051, 0.6665],\n",
       "        [0.2070, 0.9617, 0.2398, 0.7924, 0.3950],\n",
       "        [0.6503, 0.1745, 0.3726, 0.3305, 0.8965]])"
      ]
     },
     "execution_count": 68,
     "metadata": {},
     "output_type": "execute_result"
    }
   ],
   "source": [
    "abs_x = torch.abs(x1)\n",
    "abs_x"
   ]
  },
  {
   "cell_type": "code",
   "execution_count": 69,
   "id": "ccf4ee28",
   "metadata": {},
   "outputs": [
    {
     "data": {
      "text/plain": [
       "tensor([2, 3, 1, 1, 4])"
      ]
     },
     "execution_count": 69,
     "metadata": {},
     "output_type": "execute_result"
    }
   ],
   "source": [
    "z = torch.argmax(x1, dim=1)\n",
    "z"
   ]
  },
  {
   "cell_type": "code",
   "execution_count": 73,
   "id": "000bcd10",
   "metadata": {},
   "outputs": [
    {
     "data": {
      "text/plain": [
       "tensor(2.)"
      ]
     },
     "execution_count": 73,
     "metadata": {},
     "output_type": "execute_result"
    }
   ],
   "source": [
    "mean = torch.mean(x.float())\n",
    "mean"
   ]
  },
  {
   "cell_type": "code",
   "execution_count": 80,
   "id": "eb6fdf55",
   "metadata": {},
   "outputs": [
    {
     "data": {
      "text/plain": [
       "torch.return_types.sort(\n",
       "values=tensor([[0.2145, 0.2587, 0.4784, 0.5393, 0.8741],\n",
       "        [0.0749, 0.1834, 0.2846, 0.3516, 0.8844],\n",
       "        [0.2838, 0.5051, 0.6665, 0.7781, 0.8375],\n",
       "        [0.2070, 0.2398, 0.3950, 0.7924, 0.9617],\n",
       "        [0.1745, 0.3305, 0.3726, 0.6503, 0.8965]]),\n",
       "indices=tensor([[1, 4, 3, 0, 2],\n",
       "        [0, 2, 1, 4, 3],\n",
       "        [0, 3, 4, 2, 1],\n",
       "        [0, 2, 4, 3, 1],\n",
       "        [1, 3, 2, 0, 4]]))"
      ]
     },
     "execution_count": 80,
     "metadata": {},
     "output_type": "execute_result"
    }
   ],
   "source": [
    "sort = torch.sort(x1, dim=1)\n",
    "sort"
   ]
  },
  {
   "cell_type": "code",
   "execution_count": 81,
   "id": "0b2a9eb0",
   "metadata": {},
   "outputs": [
    {
     "data": {
      "text/plain": [
       "tensor([[0.5393, 0.2145, 0.8741, 0.4784, 0.2587],\n",
       "        [0.0749, 0.2846, 0.1834, 0.8844, 0.3516],\n",
       "        [0.2838, 0.8375, 0.7781, 0.5051, 0.6665],\n",
       "        [0.2070, 0.9617, 0.2398, 0.7924, 0.3950],\n",
       "        [0.6503, 0.1745, 0.3726, 0.3305, 0.8965]])"
      ]
     },
     "execution_count": 81,
     "metadata": {},
     "output_type": "execute_result"
    }
   ],
   "source": [
    "x1"
   ]
  },
  {
   "cell_type": "markdown",
   "id": "175d2ce2",
   "metadata": {},
   "source": [
    "NOTE : The sort method returns a tuple, one being the sorted tensor and the oether being the index mapping of the sorted tensor's elements to the original tensor. That is, the indices tensor consists of actual indices that the elements of the sorted tensor would've had in the original tensor. The index mapping is based on the dimension parameter that is given in the sort method"
   ]
  },
  {
   "cell_type": "code",
   "execution_count": 82,
   "id": "d20cbf95",
   "metadata": {},
   "outputs": [
    {
     "data": {
      "text/plain": [
       "tensor([[0.5393, 0.5000, 0.8741, 0.5000, 0.5000],\n",
       "        [0.5000, 0.5000, 0.5000, 0.8844, 0.5000],\n",
       "        [0.5000, 0.8375, 0.7781, 0.5051, 0.6665],\n",
       "        [0.5000, 0.9617, 0.5000, 0.7924, 0.5000],\n",
       "        [0.6503, 0.5000, 0.5000, 0.5000, 0.8965]])"
      ]
     },
     "execution_count": 82,
     "metadata": {},
     "output_type": "execute_result"
    }
   ],
   "source": [
    "z = torch.clamp(x1, min=0.5)\n",
    "z"
   ]
  },
  {
   "cell_type": "code",
   "execution_count": 88,
   "id": "aef9c684",
   "metadata": {},
   "outputs": [
    {
     "name": "stdout",
     "output_type": "stream",
     "text": [
      "tensor([[ 0.0074,  0.6284, -0.2850, -1.6842],\n",
      "        [-0.5916,  1.2173,  1.1139,  0.7538],\n",
      "        [-0.2074, -0.1813, -0.7383,  2.5281]])\n",
      "tensor([[0.0074, 0.6284, 0.0000, 0.0000],\n",
      "        [0.0000, 1.2173, 1.1139, 0.7538],\n",
      "        [0.0000, 0.0000, 0.0000, 2.5281]])\n"
     ]
    }
   ],
   "source": [
    "k = torch.randn((3,4))\n",
    "print(k)\n",
    "relu = torch.clamp(k, min=0)\n",
    "print(relu)"
   ]
  },
  {
   "cell_type": "markdown",
   "id": "cc474b73",
   "metadata": {},
   "source": [
    "NOTE : Th clamp function rounds of any number less than min to min and any number greater than max to max. If we set min alone as 0, then it is basically the relu activation to the input. "
   ]
  },
  {
   "cell_type": "markdown",
   "id": "b36fb651",
   "metadata": {},
   "source": [
    "### Indexing in tensors"
   ]
  },
  {
   "cell_type": "code",
   "execution_count": 90,
   "id": "d0d7466a",
   "metadata": {},
   "outputs": [
    {
     "name": "stdout",
     "output_type": "stream",
     "text": [
      "torch.Size([25])\n"
     ]
    }
   ],
   "source": [
    "batch_size = 10\n",
    "features = 25\n",
    "\n",
    "x = torch.rand((batch_size, features))\n",
    "\n",
    "## Getting the first training example from the batch\n",
    "print(x[0].shape)"
   ]
  },
  {
   "cell_type": "code",
   "execution_count": 91,
   "id": "24fbbeb2",
   "metadata": {},
   "outputs": [
    {
     "name": "stdout",
     "output_type": "stream",
     "text": [
      "torch.Size([10])\n"
     ]
    }
   ],
   "source": [
    "## Getting the first feature of every example from the batch\n",
    "print(x[:,0].shape)"
   ]
  },
  {
   "cell_type": "code",
   "execution_count": 96,
   "id": "edf9f933",
   "metadata": {},
   "outputs": [
    {
     "name": "stdout",
     "output_type": "stream",
     "text": [
      "tensor([0.1178, 0.4106, 0.8176])\n"
     ]
    }
   ],
   "source": [
    "## Fancy indexing\n",
    "indices = [2,5,8]\n",
    "l = torch.arange(3)\n",
    "\n",
    "print(x[indices,l])"
   ]
  },
  {
   "cell_type": "markdown",
   "id": "2d70af33",
   "metadata": {},
   "source": [
    "NOTE : We can specify the indices for the rows and columns in a list, but both the lists should be of the same size, since the index mapping happens element by element"
   ]
  },
  {
   "cell_type": "markdown",
   "id": "d1e2abc0",
   "metadata": {},
   "source": [
    "Example : indices = [2,5,8] and l = [0,1,2]. So for x[indices, l], we get x[2,0], x[5,1], x[8,2]."
   ]
  },
  {
   "cell_type": "markdown",
   "id": "d98ec14f",
   "metadata": {},
   "source": [
    "In case of one of them being pure scalars, it is broadcasted with other indices."
   ]
  },
  {
   "cell_type": "markdown",
   "id": "81cee5b6",
   "metadata": {},
   "source": [
    "Example : x[9,l] gives x[9,0], x[9,1], x[9,2]"
   ]
  },
  {
   "cell_type": "code",
   "execution_count": 98,
   "id": "e9f4d465",
   "metadata": {},
   "outputs": [
    {
     "name": "stdout",
     "output_type": "stream",
     "text": [
      "torch.Size([2])\n"
     ]
    }
   ],
   "source": [
    "x = torch.rand((3,5))\n",
    "rows = torch.tensor([1,0])\n",
    "cols = torch.tensor([4,0])\n",
    "print(x[rows, cols].shape)"
   ]
  },
  {
   "cell_type": "code",
   "execution_count": 104,
   "id": "69240751",
   "metadata": {},
   "outputs": [
    {
     "data": {
      "text/plain": [
       "tensor([0, 1, 9])"
      ]
     },
     "execution_count": 104,
     "metadata": {},
     "output_type": "execute_result"
    }
   ],
   "source": [
    "## Advanced indexing\n",
    "x = torch.arange(10)\n",
    "y = (x<2) | (x>8)\n",
    "x[y]"
   ]
  },
  {
   "cell_type": "markdown",
   "id": "882b8281",
   "metadata": {},
   "source": [
    "Tensor supports boolean array for indexing. We created a boolean array with the condition that x<2 or x>8, which checks the condition for every element of x and forms a boolean list."
   ]
  },
  {
   "cell_type": "code",
   "execution_count": 105,
   "id": "74681fc3",
   "metadata": {},
   "outputs": [
    {
     "data": {
      "text/plain": [
       "tensor([ True,  True, False, False, False, False, False, False, False,  True])"
      ]
     },
     "execution_count": 105,
     "metadata": {},
     "output_type": "execute_result"
    }
   ],
   "source": [
    "y"
   ]
  },
  {
   "cell_type": "code",
   "execution_count": 106,
   "id": "b4ad2119",
   "metadata": {},
   "outputs": [
    {
     "data": {
      "text/plain": [
       "tensor([0, 2, 4, 6, 8])"
      ]
     },
     "execution_count": 106,
     "metadata": {},
     "output_type": "execute_result"
    }
   ],
   "source": [
    "x[x.remainder(2) == 0]"
   ]
  },
  {
   "cell_type": "code",
   "execution_count": 115,
   "id": "d76107d0",
   "metadata": {},
   "outputs": [
    {
     "name": "stdout",
     "output_type": "stream",
     "text": [
      "tensor([0, 2, 4, 6, 8, 5, 6, 7, 8, 9])\n",
      "tensor([0, 1, 2, 3, 4])\n",
      "1 2\n",
      "10\n",
      "25\n"
     ]
    }
   ],
   "source": [
    "print(torch.where(x>=5, x, x*2))\n",
    "print(torch.tensor([0,0,1,2,2,3,4,4]).unique())\n",
    "print(x.ndimension(), x1.ndimension()) ##Number of dimensions\n",
    "print(x.numel()) ## Number of elements\n",
    "print(x1.numel()) ## Number of elements"
   ]
  },
  {
   "cell_type": "markdown",
   "id": "9efd5d94",
   "metadata": {},
   "source": [
    "### Reshaping tensors"
   ]
  },
  {
   "cell_type": "code",
   "execution_count": 118,
   "id": "ae95a88d",
   "metadata": {},
   "outputs": [
    {
     "data": {
      "text/plain": [
       "tensor([[0, 1, 2],\n",
       "        [3, 4, 5],\n",
       "        [6, 7, 8]])"
      ]
     },
     "execution_count": 118,
     "metadata": {},
     "output_type": "execute_result"
    }
   ],
   "source": [
    "x = torch.arange(9)\n",
    "\n",
    "x_3x3 = x.view(3,3)\n",
    "x_3x3"
   ]
  },
  {
   "cell_type": "code",
   "execution_count": 119,
   "id": "300f41cf",
   "metadata": {},
   "outputs": [
    {
     "data": {
      "text/plain": [
       "tensor([[0, 1, 2],\n",
       "        [3, 4, 5],\n",
       "        [6, 7, 8]])"
      ]
     },
     "execution_count": 119,
     "metadata": {},
     "output_type": "execute_result"
    }
   ],
   "source": [
    "y_3x3 = x.reshape(3,3)\n",
    "y_3x3"
   ]
  },
  {
   "cell_type": "markdown",
   "id": "b43b456a",
   "metadata": {},
   "source": [
    "NOTE : reshape is a safer bet, since view might give errors if its input is not in a contiguous manner in memory"
   ]
  },
  {
   "cell_type": "code",
   "execution_count": 122,
   "id": "a8a64f8f",
   "metadata": {},
   "outputs": [
    {
     "name": "stdout",
     "output_type": "stream",
     "text": [
      "torch.Size([4, 5])\n",
      "torch.Size([2, 10])\n"
     ]
    }
   ],
   "source": [
    "x1 = torch.rand((2,5))\n",
    "x2 = torch.rand((2,5))\n",
    "\n",
    "print(torch.cat((x1,x2), dim=0).shape)\n",
    "print(torch.cat((x1,x2), dim=1).shape)"
   ]
  },
  {
   "cell_type": "code",
   "execution_count": 124,
   "id": "378bfe96",
   "metadata": {},
   "outputs": [
    {
     "data": {
      "text/plain": [
       "tensor([0.9022, 0.8116, 0.2549, 0.4772, 0.8443, 0.8809, 0.7748, 0.2467, 0.4400,\n",
       "        0.7825])"
      ]
     },
     "execution_count": 124,
     "metadata": {},
     "output_type": "execute_result"
    }
   ],
   "source": [
    "##Unrolling\n",
    "z = x1.view(-1)\n",
    "z"
   ]
  },
  {
   "cell_type": "code",
   "execution_count": 127,
   "id": "632c11de",
   "metadata": {},
   "outputs": [
    {
     "name": "stdout",
     "output_type": "stream",
     "text": [
      "torch.Size([64, 2, 5])\n",
      "torch.Size([64, 10])\n"
     ]
    }
   ],
   "source": [
    "batch = 64\n",
    "s = torch.rand((batch,2,5))\n",
    "print(s.shape)\n",
    "z = s.reshape(batch,-1) ##Having batch samples but unrolling each of them\n",
    "print(z.shape)"
   ]
  },
  {
   "cell_type": "code",
   "execution_count": 128,
   "id": "6d6aceca",
   "metadata": {},
   "outputs": [
    {
     "name": "stdout",
     "output_type": "stream",
     "text": [
      "torch.Size([64, 5, 2])\n"
     ]
    }
   ],
   "source": [
    "#Switching axis\n",
    "k = s.permute(0,2,1)\n",
    "print(k.shape)"
   ]
  },
  {
   "cell_type": "code",
   "execution_count": null,
   "id": "b5edddfe",
   "metadata": {},
   "outputs": [],
   "source": []
  }
 ],
 "metadata": {
  "kernelspec": {
   "display_name": "Python 3 (ipykernel)",
   "language": "python",
   "name": "python3"
  },
  "language_info": {
   "codemirror_mode": {
    "name": "ipython",
    "version": 3
   },
   "file_extension": ".py",
   "mimetype": "text/x-python",
   "name": "python",
   "nbconvert_exporter": "python",
   "pygments_lexer": "ipython3",
   "version": "3.8.10"
  }
 },
 "nbformat": 4,
 "nbformat_minor": 5
}
