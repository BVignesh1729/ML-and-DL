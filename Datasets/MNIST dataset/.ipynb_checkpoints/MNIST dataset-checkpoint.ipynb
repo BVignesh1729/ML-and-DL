{
 "cells": [
  {
   "cell_type": "code",
   "execution_count": 19,
   "id": "cffaea9b",
   "metadata": {},
   "outputs": [],
   "source": [
    "import numpy as np\n",
    "import pandas as pd\n",
    "import matplotlib.pyplot as plt\n",
    "import matplotlib as mpl"
   ]
  },
  {
   "cell_type": "code",
   "execution_count": 20,
   "id": "fa0aba29",
   "metadata": {},
   "outputs": [],
   "source": [
    "train_data = pd.read_csv('train.csv')"
   ]
  },
  {
   "cell_type": "code",
   "execution_count": 21,
   "id": "9300f4f5",
   "metadata": {},
   "outputs": [],
   "source": [
    "train_x = train_data.drop(columns='label')\n",
    "train_y = train_data['label']"
   ]
  },
  {
   "cell_type": "code",
   "execution_count": 22,
   "id": "f28dc00f",
   "metadata": {},
   "outputs": [
    {
     "data": {
      "text/plain": [
       "((42000, 784), (42000,))"
      ]
     },
     "execution_count": 22,
     "metadata": {},
     "output_type": "execute_result"
    }
   ],
   "source": [
    "train_x.shape, train_y.shape\n",
    "#Samples X Features for train_x. train_y is a 1-d array"
   ]
  },
  {
   "cell_type": "code",
   "execution_count": 85,
   "id": "e6ca6742",
   "metadata": {},
   "outputs": [
    {
     "data": {
      "text/plain": [
       "((42000, 784), (42000,))"
      ]
     },
     "execution_count": 85,
     "metadata": {},
     "output_type": "execute_result"
    }
   ],
   "source": [
    "train_x_array = np.array(train_x)\n",
    "train_y_array = np.array(train_y)\n",
    "# test_x_array = np.array(test_x)\n",
    "# test_y_array = np.array(test_y)\n",
    "\n",
    "train_x_array.shape, train_y_array.shape"
   ]
  },
  {
   "cell_type": "code",
   "execution_count": 120,
   "id": "b28123b2",
   "metadata": {},
   "outputs": [
    {
     "data": {
      "image/png": "[encoded data removed]",
      "text/plain": [
       "<Figure size 432x288 with 1 Axes>"
      ]
     },
     "metadata": {
      "needs_background": "light"
     },
     "output_type": "display_data"
    }
   ],
   "source": [
    "some_digit = train_x_array[8]\n",
    "some_digit_image = some_digit.reshape(28,28)\n",
    "plt.imshow(some_digit_image, cmap=mpl.cm.binary, interpolation='nearest')\n",
    "plt.axis('off')\n",
    "plt.show()"
   ]
  },
  {
   "cell_type": "code",
   "execution_count": 121,
   "id": "ad836e65",
   "metadata": {},
   "outputs": [
    {
     "data": {
      "text/plain": [
       "5"
      ]
     },
     "execution_count": 121,
     "metadata": {},
     "output_type": "execute_result"
    }
   ],
   "source": [
    "some_digit_label = train_y_array[8]\n",
    "some_digit_label"
   ]
  },
  {
   "cell_type": "markdown",
   "id": "9649064a",
   "metadata": {},
   "source": [
    "# Training a binary classifier(5-detector)"
   ]
  },
  {
   "cell_type": "code",
   "execution_count": 132,
   "id": "df2d4f33",
   "metadata": {},
   "outputs": [],
   "source": [
    "from sklearn.model_selection import train_test_split\n",
    "X_train, X_test, Y_train, Y_test = train_test_split(train_x_array, train_y_array, test_size=0.2) "
   ]
  },
  {
   "cell_type": "code",
   "execution_count": 123,
   "id": "dc4e0c16",
   "metadata": {},
   "outputs": [],
   "source": [
    "y_train = (Y_train == 5).astype(int)\n",
    "y_test = (Y_test == 5).astype(int)"
   ]
  },
  {
   "cell_type": "code",
   "execution_count": 124,
   "id": "45d8a391",
   "metadata": {},
   "outputs": [
    {
     "data": {
      "text/plain": [
       "SGDClassifier(random_state=42)"
      ]
     },
     "execution_count": 124,
     "metadata": {},
     "output_type": "execute_result"
    }
   ],
   "source": [
    "#CHoosing the SGD classifier\n",
    "from sklearn.linear_model import SGDClassifier\n",
    "sgd = SGDClassifier(random_state=42)\n",
    "sgd.fit(X_train, y_train)"
   ]
  },
  {
   "cell_type": "code",
   "execution_count": 125,
   "id": "d7a5a680",
   "metadata": {},
   "outputs": [
    {
     "data": {
      "text/plain": [
       "array([1])"
      ]
     },
     "execution_count": 125,
     "metadata": {},
     "output_type": "execute_result"
    }
   ],
   "source": [
    "sgd.predict([some_digit])"
   ]
  },
  {
   "cell_type": "code",
   "execution_count": 126,
   "id": "cdc76500",
   "metadata": {},
   "outputs": [
    {
     "data": {
      "text/plain": [
       "array([0.96488095, 0.9641369 , 0.92589286, 0.96235119, 0.96949405])"
      ]
     },
     "execution_count": 126,
     "metadata": {},
     "output_type": "execute_result"
    }
   ],
   "source": [
    "#Evaluating the classifier using cross_val_score\n",
    "from sklearn.model_selection import cross_val_score\n",
    "cross_val_score(sgd,X_train,y_train,cv=5,scoring='accuracy')"
   ]
  },
  {
   "cell_type": "markdown",
   "id": "10ab5983",
   "metadata": {},
   "source": [
    "In this case, even a dummy classifier will work well, cuz the data is skewed with respect to 5(that is, the entire dataset itself has only less number of 5 in it)"
   ]
  },
  {
   "cell_type": "code",
   "execution_count": 133,
   "id": "69536d4e",
   "metadata": {},
   "outputs": [],
   "source": [
    "#Dummy classifier\n",
    "from sklearn.base import BaseEstimator\n",
    "\n",
    "class DummyClassifier(BaseEstimator):\n",
    "    def fit(self,X,y=None):\n",
    "        pass\n",
    "    def predict(self,X):\n",
    "        return np.zeros((len(X),1))#Always predicts an image to be NOT 5"
   ]
  },
  {
   "cell_type": "code",
   "execution_count": 134,
   "id": "ec18cea7",
   "metadata": {},
   "outputs": [
    {
     "data": {
      "text/plain": [
       "array([0.90580357, 0.90863095, 0.90833333, 0.90833333, 0.91294643])"
      ]
     },
     "execution_count": 134,
     "metadata": {},
     "output_type": "execute_result"
    }
   ],
   "source": [
    "dummy = DummyClassifier()\n",
    "\n",
    "cross_val_score(dummy, X_train, y_train, cv=5, scoring='accuracy')"
   ]
  },
  {
   "cell_type": "code",
   "execution_count": 136,
   "id": "c18d3c3f",
   "metadata": {},
   "outputs": [],
   "source": [
    "#Confusion matrix\n",
    "from sklearn.model_selection import cross_val_predict\n",
    "\n",
    "y_train_pred = cross_val_predict(sgd, X_train, y_train, cv=5)"
   ]
  },
  {
   "cell_type": "code",
   "execution_count": 139,
   "id": "8a0cfc65",
   "metadata": {},
   "outputs": [
    {
     "data": {
      "text/plain": [
       "array([[27799,  2737],\n",
       "       [ 2808,   256]])"
      ]
     },
     "execution_count": 139,
     "metadata": {},
     "output_type": "execute_result"
    }
   ],
   "source": [
    "from sklearn.metrics import confusion_matrix\n",
    "confusion_matrix(y_train, y_train_pred)"
   ]
  },
  {
   "cell_type": "code",
   "execution_count": 141,
   "id": "55b63fd3",
   "metadata": {},
   "outputs": [
    {
     "data": {
      "text/plain": [
       "array([[30536,     0],\n",
       "       [    0,  3064]])"
      ]
     },
     "execution_count": 141,
     "metadata": {},
     "output_type": "execute_result"
    }
   ],
   "source": [
    "#IN case of perfect prediction(highly unlikely)\n",
    "y_predict_perfect = y_train\n",
    "confusion_matrix(y_train, y_predict_perfect)"
   ]
  },
  {
   "cell_type": "code",
   "execution_count": null,
   "id": "eee4ecce",
   "metadata": {},
   "outputs": [],
   "source": []
  }
 ],
 "metadata": {
  "kernelspec": {
   "display_name": "Python 3 (ipykernel)",
   "language": "python",
   "name": "python3"
  },
  "language_info": {
   "codemirror_mode": {
    "name": "ipython",
    "version": 3
   },
   "file_extension": ".py",
   "mimetype": "text/x-python",
   "name": "python",
   "nbconvert_exporter": "python",
   "pygments_lexer": "ipython3",
   "version": "3.8.10"
  }
 },
 "nbformat": 4,
 "nbformat_minor": 5
}
