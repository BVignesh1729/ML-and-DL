{
 "cells": [
  {
   "cell_type": "code",
   "execution_count": 1,
   "id": "cffaea9b",
   "metadata": {},
   "outputs": [],
   "source": [
    "import numpy as np\n",
    "import pandas as pd\n",
    "import matplotlib.pyplot as plt\n",
    "import matplotlib as mpl"
   ]
  },
  {
   "cell_type": "code",
   "execution_count": 2,
   "id": "fa0aba29",
   "metadata": {},
   "outputs": [],
   "source": [
    "train_data = pd.read_csv('train.csv')"
   ]
  },
  {
   "cell_type": "code",
   "execution_count": 3,
   "id": "9300f4f5",
   "metadata": {},
   "outputs": [],
   "source": [
    "train_x = train_data.drop(columns='label')\n",
    "train_y = train_data['label']"
   ]
  },
  {
   "cell_type": "code",
   "execution_count": 4,
   "id": "f28dc00f",
   "metadata": {},
   "outputs": [
    {
     "data": {
      "text/plain": [
       "((42000, 784), (42000,))"
      ]
     },
     "execution_count": 4,
     "metadata": {},
     "output_type": "execute_result"
    }
   ],
   "source": [
    "train_x.shape, train_y.shape\n",
    "#Samples X Features for train_x. train_y is a 1-d array"
   ]
  },
  {
   "cell_type": "code",
   "execution_count": 5,
   "id": "e6ca6742",
   "metadata": {},
   "outputs": [
    {
     "data": {
      "text/plain": [
       "((42000, 784), (42000,))"
      ]
     },
     "execution_count": 5,
     "metadata": {},
     "output_type": "execute_result"
    }
   ],
   "source": [
    "train_x_array = np.array(train_x)\n",
    "train_y_array = np.array(train_y)\n",
    "# test_x_array = np.array(test_x)\n",
    "# test_y_array = np.array(test_y)\n",
    "\n",
    "train_x_array.shape, train_y_array.shape"
   ]
  },
  {
   "cell_type": "code",
   "execution_count": 6,
   "id": "b28123b2",
   "metadata": {},
   "outputs": [
    {
     "data": {
      "image/png": "[encoded data removed]",
      "text/plain": [
       "<Figure size 432x288 with 1 Axes>"
      ]
     },
     "metadata": {
      "needs_background": "light"
     },
     "output_type": "display_data"
    }
   ],
   "source": [
    "some_digit = train_x_array[8]\n",
    "some_digit_image = some_digit.reshape(28,28)\n",
    "plt.imshow(some_digit_image, cmap=mpl.cm.binary, interpolation='nearest')\n",
    "plt.axis('off')\n",
    "plt.show()"
   ]
  },
  {
   "cell_type": "code",
   "execution_count": 7,
   "id": "ad836e65",
   "metadata": {},
   "outputs": [
    {
     "data": {
      "text/plain": [
       "5"
      ]
     },
     "execution_count": 7,
     "metadata": {},
     "output_type": "execute_result"
    }
   ],
   "source": [
    "some_digit_label = train_y_array[8]\n",
    "some_digit_label"
   ]
  },
  {
   "cell_type": "markdown",
   "id": "9649064a",
   "metadata": {},
   "source": [
    "# Training a binary classifier(5-detector)"
   ]
  },
  {
   "cell_type": "code",
   "execution_count": 8,
   "id": "df2d4f33",
   "metadata": {},
   "outputs": [],
   "source": [
    "from sklearn.model_selection import train_test_split\n",
    "X_train, X_test, Y_train, Y_test = train_test_split(train_x_array, train_y_array, test_size=0.2) "
   ]
  },
  {
   "cell_type": "code",
   "execution_count": 9,
   "id": "dc4e0c16",
   "metadata": {},
   "outputs": [],
   "source": [
    "y_train = (Y_train == 5).astype(int)\n",
    "y_test = (Y_test == 5).astype(int)"
   ]
  },
  {
   "cell_type": "code",
   "execution_count": 10,
   "id": "45d8a391",
   "metadata": {},
   "outputs": [
    {
     "data": {
      "text/plain": [
       "SGDClassifier(random_state=42)"
      ]
     },
     "execution_count": 10,
     "metadata": {},
     "output_type": "execute_result"
    }
   ],
   "source": [
    "#CHoosing the SGD classifier\n",
    "from sklearn.linear_model import SGDClassifier\n",
    "sgd = SGDClassifier(random_state=42)\n",
    "sgd.fit(X_train, y_train)"
   ]
  },
  {
   "cell_type": "code",
   "execution_count": 11,
   "id": "d7a5a680",
   "metadata": {},
   "outputs": [
    {
     "data": {
      "text/plain": [
       "array([1])"
      ]
     },
     "execution_count": 11,
     "metadata": {},
     "output_type": "execute_result"
    }
   ],
   "source": [
    "sgd.predict([some_digit])"
   ]
  },
  {
   "cell_type": "code",
   "execution_count": 12,
   "id": "cdc76500",
   "metadata": {},
   "outputs": [
    {
     "data": {
      "text/plain": [
       "array([0.95625   , 0.95416667, 0.96145833, 0.96041667, 0.96889881])"
      ]
     },
     "execution_count": 12,
     "metadata": {},
     "output_type": "execute_result"
    }
   ],
   "source": [
    "#Evaluating the classifier using cross_val_score\n",
    "from sklearn.model_selection import cross_val_score\n",
    "cross_val_score(sgd,X_train,y_train,cv=5,scoring='accuracy')"
   ]
  },
  {
   "cell_type": "markdown",
   "id": "10ab5983",
   "metadata": {},
   "source": [
    "In this case, even a dummy classifier will work well, cuz the data is skewed with respect to 5(that is, the entire dataset itself has only less number of 5 in it)"
   ]
  },
  {
   "cell_type": "code",
   "execution_count": 13,
   "id": "69536d4e",
   "metadata": {},
   "outputs": [],
   "source": [
    "#Dummy classifier\n",
    "from sklearn.base import BaseEstimator\n",
    "\n",
    "class DummyClassifier(BaseEstimator):\n",
    "    def fit(self,X,y=None):\n",
    "        pass\n",
    "    def predict(self,X):\n",
    "        return np.zeros((len(X),1))#Always predicts an image to be NOT 5"
   ]
  },
  {
   "cell_type": "code",
   "execution_count": 14,
   "id": "ec18cea7",
   "metadata": {},
   "outputs": [
    {
     "data": {
      "text/plain": [
       "array([0.91607143, 0.91190476, 0.9047619 , 0.90744048, 0.91369048])"
      ]
     },
     "execution_count": 14,
     "metadata": {},
     "output_type": "execute_result"
    }
   ],
   "source": [
    "dummy = DummyClassifier()\n",
    "\n",
    "cross_val_score(dummy, X_train, y_train, cv=5, scoring='accuracy')"
   ]
  },
  {
   "cell_type": "code",
   "execution_count": 15,
   "id": "c18d3c3f",
   "metadata": {},
   "outputs": [],
   "source": [
    "#Confusion matrix\n",
    "from sklearn.model_selection import cross_val_predict\n",
    "\n",
    "y_train_pred = cross_val_predict(sgd, X_train, y_train, cv=5)"
   ]
  },
  {
   "cell_type": "code",
   "execution_count": 16,
   "id": "8a0cfc65",
   "metadata": {},
   "outputs": [
    {
     "data": {
      "text/plain": [
       "array([[29926,   676],\n",
       "       [  660,  2338]])"
      ]
     },
     "execution_count": 16,
     "metadata": {},
     "output_type": "execute_result"
    }
   ],
   "source": [
    "from sklearn.metrics import confusion_matrix\n",
    "confusion_matrix(y_train, y_train_pred)"
   ]
  },
  {
   "cell_type": "code",
   "execution_count": 17,
   "id": "55b63fd3",
   "metadata": {},
   "outputs": [
    {
     "data": {
      "text/plain": [
       "array([[30602,     0],\n",
       "       [    0,  2998]])"
      ]
     },
     "execution_count": 17,
     "metadata": {},
     "output_type": "execute_result"
    }
   ],
   "source": [
    "#IN case of perfect prediction(highly unlikely)\n",
    "y_predict_perfect = y_train\n",
    "confusion_matrix(y_train, y_predict_perfect)"
   ]
  },
  {
   "cell_type": "code",
   "execution_count": 18,
   "id": "eee4ecce",
   "metadata": {},
   "outputs": [
    {
     "data": {
      "text/plain": [
       "0.7757133377571334"
      ]
     },
     "execution_count": 18,
     "metadata": {},
     "output_type": "execute_result"
    }
   ],
   "source": [
    "#Precision and Recall for classifiers\n",
    "from sklearn.metrics import precision_score, recall_score\n",
    "\n",
    "precision_score(y_train, y_train_pred)"
   ]
  },
  {
   "cell_type": "code",
   "execution_count": 19,
   "id": "640b1e54",
   "metadata": {},
   "outputs": [
    {
     "data": {
      "text/plain": [
       "0.7798532354903269"
      ]
     },
     "execution_count": 19,
     "metadata": {},
     "output_type": "execute_result"
    }
   ],
   "source": [
    "recall_score(y_train, y_train_pred)"
   ]
  },
  {
   "cell_type": "code",
   "execution_count": 20,
   "id": "e3d5ee68",
   "metadata": {},
   "outputs": [
    {
     "data": {
      "text/plain": [
       "0.7777777777777778"
      ]
     },
     "execution_count": 20,
     "metadata": {},
     "output_type": "execute_result"
    }
   ],
   "source": [
    "#F1 SCORE : Harmonic mean of precision and recall. Gives more effect if values are low. Thus, for high F1 score, both precision and recall HAVE to be high\n",
    "from sklearn.metrics import f1_score\n",
    "f1_score(y_train, y_train_pred)"
   ]
  },
  {
   "cell_type": "code",
   "execution_count": 35,
   "id": "4d8f7382",
   "metadata": {},
   "outputs": [
    {
     "data": {
      "text/plain": [
       "array([4504.88673607])"
      ]
     },
     "execution_count": 35,
     "metadata": {},
     "output_type": "execute_result"
    }
   ],
   "source": [
    "#Setting the threshold by ourselves\n",
    "#For an individual instance\n",
    "y_some_digit = sgd.decision_function([some_digit])\n",
    "y_some_digit"
   ]
  },
  {
   "cell_type": "code",
   "execution_count": 39,
   "id": "22d2d9b5",
   "metadata": {},
   "outputs": [
    {
     "data": {
      "text/plain": [
       "array([ True])"
      ]
     },
     "execution_count": 39,
     "metadata": {},
     "output_type": "execute_result"
    }
   ],
   "source": [
    "#Prediction\n",
    "threshold = 4000\n",
    "y_some_digit_pred = (y_some_digit > threshold)\n",
    "y_some_digit_pred"
   ]
  },
  {
   "cell_type": "code",
   "execution_count": 40,
   "id": "22dd93db",
   "metadata": {},
   "outputs": [],
   "source": [
    "#Setting threshold for all values, by getting the entire decision parameter evaluations\n",
    "\n",
    "y_dec_eval = cross_val_predict(sgd, X_train, y_train, cv=5, method='decision_function')"
   ]
  },
  {
   "cell_type": "code",
   "execution_count": 42,
   "id": "93afa8d9",
   "metadata": {},
   "outputs": [],
   "source": [
    "#Computing precision recall for all possible values of threshold using precison_recall_curve\n",
    "from sklearn.metrics import precision_recall_curve\n",
    "precisions, recalls, thresholds = precision_recall_curve(y_train, y_dec_eval)"
   ]
  },
  {
   "cell_type": "code",
   "execution_count": 46,
   "id": "5cd602e1",
   "metadata": {},
   "outputs": [
    {
     "data": {
      "text/plain": [
       "((33595,), (33595,), (33594,))"
      ]
     },
     "execution_count": 46,
     "metadata": {},
     "output_type": "execute_result"
    }
   ],
   "source": [
    "precisions.shape, recalls.shape, thresholds.shape"
   ]
  },
  {
   "cell_type": "code",
   "execution_count": 49,
   "id": "49cadc61",
   "metadata": {},
   "outputs": [],
   "source": [
    "#Plotting precisions and recalls as a function of thresholds\n",
    "def plot_precision_recall_vs_threshold(precisions, recalls, thresholds):\n",
    "    plt.plot(thresholds, precisions[:-1], 'b--', label='Precision')\n",
    "    plt.plot(thresholds, recalls[:-1], 'g-', label='Recall')\n",
    "    plt.legend()"
   ]
  },
  {
   "cell_type": "code",
   "execution_count": 50,
   "id": "6b0a5d16",
   "metadata": {},
   "outputs": [
    {
     "data": {
      "image/png": "[encoded data removed]",
      "text/plain": [
       "<Figure size 432x288 with 1 Axes>"
      ]
     },
     "metadata": {
      "needs_background": "light"
     },
     "output_type": "display_data"
    }
   ],
   "source": [
    "plot_precision_recall_vs_threshold(precisions, recalls, thresholds)"
   ]
  },
  {
   "cell_type": "code",
   "execution_count": 52,
   "id": "a5206cc9",
   "metadata": {},
   "outputs": [
    {
     "data": {
      "image/png": "[encoded data removed]",
      "text/plain": [
       "<Figure size 432x288 with 1 Axes>"
      ]
     },
     "metadata": {
      "needs_background": "light"
     },
     "output_type": "display_data"
    }
   ],
   "source": [
    "#PLotting precision against recall directly\n",
    "plt.plot(precisions[:-1], recalls[:-1], 'r-')\n",
    "plt.title('Precision Vs Recall')\n",
    "plt.show()"
   ]
  },
  {
   "cell_type": "code",
   "execution_count": null,
   "id": "843ed90c",
   "metadata": {},
   "outputs": [],
   "source": [
    "you"
   ]
  }
 ],
 "metadata": {
  "kernelspec": {
   "display_name": "Python 3 (ipykernel)",
   "language": "python",
   "name": "python3"
  },
  "language_info": {
   "codemirror_mode": {
    "name": "ipython",
    "version": 3
   },
   "file_extension": ".py",
   "mimetype": "text/x-python",
   "name": "python",
   "nbconvert_exporter": "python",
   "pygments_lexer": "ipython3",
   "version": "3.8.10"
  }
 },
 "nbformat": 4,
 "nbformat_minor": 5
}
